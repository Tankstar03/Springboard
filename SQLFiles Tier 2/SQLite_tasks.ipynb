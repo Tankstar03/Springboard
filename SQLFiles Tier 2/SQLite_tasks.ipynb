{
 "cells": [
  {
   "cell_type": "markdown",
   "id": "a38028eb-2d14-48ec-947a-74c2d6fb9305",
   "metadata": {},
   "source": [
    "# SQL Tasks Part 2"
   ]
  },
  {
   "cell_type": "code",
   "execution_count": 1,
   "id": "89646356-8a22-42b6-91d6-449d1628346c",
   "metadata": {},
   "outputs": [],
   "source": [
    "import sqlite3\n",
    "from sqlite3 import Error"
   ]
  },
  {
   "cell_type": "code",
   "execution_count": 2,
   "id": "97bbcdfc-60bd-405a-b1b0-46ea16a51c7e",
   "metadata": {},
   "outputs": [],
   "source": [
    "def create_connection(db_file):\n",
    "    \"\"\" create a database connection to the SQLite database\n",
    "        specified by the db_file\n",
    "    :param db_file: database file\n",
    "    :return: Connection object or None\n",
    "    \"\"\"\n",
    "    conn = None\n",
    "    try:\n",
    "        conn = sqlite3.connect(db_file)\n",
    "        print(sqlite3.version)\n",
    "    except Error as e:\n",
    "        print(e)\n",
    " \n",
    "    return conn"
   ]
  },
  {
   "cell_type": "code",
   "execution_count": 6,
   "id": "ea74c6f4-db48-431b-93dc-d1033d1372cc",
   "metadata": {},
   "outputs": [],
   "source": [
    "def select_all_tasks(conn, query):\n",
    "    \"\"\"\n",
    "    Query all rows in the tasks table\n",
    "    :param conn: the Connection object\n",
    "    :return:\n",
    "    \"\"\"\n",
    "    cur = conn.cursor()\n",
    "    \n",
    "    query1 = \"\"\"\n",
    "        SELECT *\n",
    "        FROM FACILITIES\n",
    "        \"\"\"\n",
    "    cur.execute(query)\n",
    " \n",
    "    rows = cur.fetchall()\n",
    " \n",
    "    for row in rows:\n",
    "        print(row)"
   ]
  },
  {
   "cell_type": "code",
   "execution_count": 16,
   "id": "18c7b04b-1a9d-4b75-b557-32f9dbefb479",
   "metadata": {},
   "outputs": [
    {
     "name": "stdout",
     "output_type": "stream",
     "text": [
      "2.6.0\n",
      "2. Query all tasks\n",
      "('Badminton Court', 51, '07')\n",
      "('Badminton Court', 132, '08')\n",
      "('Badminton Court', 161, '09')\n",
      "('Massage Room 1', 77, '07')\n",
      "('Massage Room 1', 153, '08')\n",
      "('Massage Room 1', 191, '09')\n",
      "('Massage Room 2', 4, '07')\n",
      "('Massage Room 2', 9, '08')\n",
      "('Massage Room 2', 14, '09')\n",
      "('Pool Table', 103, '07')\n",
      "('Pool Table', 272, '08')\n",
      "('Pool Table', 408, '09')\n",
      "('Snooker Table', 68, '07')\n",
      "('Snooker Table', 154, '08')\n",
      "('Snooker Table', 199, '09')\n",
      "('Squash Court', 23, '07')\n",
      "('Squash Court', 85, '08')\n",
      "('Squash Court', 87, '09')\n",
      "('Table Tennis', 48, '07')\n",
      "('Table Tennis', 143, '08')\n",
      "('Table Tennis', 194, '09')\n",
      "('Tennis Court 1', 65, '07')\n",
      "('Tennis Court 1', 111, '08')\n",
      "('Tennis Court 1', 132, '09')\n",
      "('Tennis Court 2', 41, '07')\n",
      "('Tennis Court 2', 109, '08')\n",
      "('Tennis Court 2', 126, '09')\n"
     ]
    },
    {
     "name": "stderr",
     "output_type": "stream",
     "text": [
      "C:\\Users\\tanks\\AppData\\Local\\Temp\\ipykernel_65316\\440976591.py:10: DeprecationWarning: version is deprecated and will be removed in Python 3.14\n",
      "  print(sqlite3.version)\n"
     ]
    }
   ],
   "source": [
    "database = \"sqlite_db_pythonsqlite.db\"\n",
    "query_list = [\"\"\"\n",
    "        SELECT fac.name, COUNT( * ) AS usage_count, strftime('%m', starttime ) AS month\n",
    "        FROM Facilities AS fac\n",
    "        INNER JOIN Bookings AS book ON book.facid = fac.facid\n",
    "        WHERE book.memid <>0\n",
    "        GROUP BY fac.facid, strftime('%m', starttime )\n",
    "        ORDER BY fac.name, month\n",
    "        \"\"\"]\n",
    "# create a database connection\n",
    "conn = create_connection(database)\n",
    "with conn: \n",
    "    print(\"2. Query all tasks\")\n",
    "    for q in query_list:\n",
    "        select_all_tasks(conn, q)"
   ]
  },
  {
   "cell_type": "code",
   "execution_count": null,
   "id": "ac058a9c-9a44-4af6-bfda-b7fc5eeab69e",
   "metadata": {},
   "outputs": [],
   "source": []
  }
 ],
 "metadata": {
  "kernelspec": {
   "display_name": "Python 3 (ipykernel)",
   "language": "python",
   "name": "python3"
  },
  "language_info": {
   "codemirror_mode": {
    "name": "ipython",
    "version": 3
   },
   "file_extension": ".py",
   "mimetype": "text/x-python",
   "name": "python",
   "nbconvert_exporter": "python",
   "pygments_lexer": "ipython3",
   "version": "3.13.0"
  }
 },
 "nbformat": 4,
 "nbformat_minor": 5
}
