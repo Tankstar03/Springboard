{
  "cells": [
    {
      "cell_type": "markdown",
      "metadata": {
        "id": "VsNYwUleOhHC"
      },
      "source": [
        "# Install Spark\n",
        "\n",
        "The below comands will install spark locally in our colab instance."
      ]
    },
    {
      "cell_type": "code",
      "execution_count": 1,
      "metadata": {
        "colab": {
          "base_uri": "https://localhost:8080/"
        },
        "id": "ydPIDOS1OhHE",
        "outputId": "2fecd777-2a86-4067-e93b-767d20f816ab"
      },
      "outputs": [
        {
          "output_type": "stream",
          "name": "stdout",
          "text": [
            "Get:1 http://security.ubuntu.com/ubuntu jammy-security InRelease [129 kB]\n",
            "Hit:2 http://archive.ubuntu.com/ubuntu jammy InRelease\n",
            "Get:3 https://cloud.r-project.org/bin/linux/ubuntu jammy-cran40/ InRelease [3,632 B]\n",
            "Hit:4 https://cli.github.com/packages stable InRelease\n",
            "Get:5 https://r2u.stat.illinois.edu/ubuntu jammy InRelease [6,555 B]\n",
            "Get:6 https://developer.download.nvidia.com/compute/cuda/repos/ubuntu2204/x86_64  InRelease [1,581 B]\n",
            "Get:7 http://archive.ubuntu.com/ubuntu jammy-updates InRelease [128 kB]\n",
            "Hit:8 https://ppa.launchpadcontent.net/deadsnakes/ppa/ubuntu jammy InRelease\n",
            "Hit:9 https://ppa.launchpadcontent.net/graphics-drivers/ppa/ubuntu jammy InRelease\n",
            "Get:10 http://archive.ubuntu.com/ubuntu jammy-backports InRelease [127 kB]\n",
            "Hit:11 https://ppa.launchpadcontent.net/ubuntugis/ppa/ubuntu jammy InRelease\n",
            "Get:12 https://r2u.stat.illinois.edu/ubuntu jammy/main all Packages [9,322 kB]\n",
            "Get:13 https://developer.download.nvidia.com/compute/cuda/repos/ubuntu2204/x86_64  Packages [2,065 kB]\n",
            "Get:14 https://r2u.stat.illinois.edu/ubuntu jammy/main amd64 Packages [2,809 kB]\n",
            "Get:15 http://archive.ubuntu.com/ubuntu jammy-updates/universe amd64 Packages [1,580 kB]\n",
            "Get:16 http://archive.ubuntu.com/ubuntu jammy-updates/main amd64 Packages [3,738 kB]\n",
            "Get:17 http://archive.ubuntu.com/ubuntu jammy-backports/universe amd64 Packages [35.2 kB]\n",
            "Get:18 http://archive.ubuntu.com/ubuntu jammy-backports/main amd64 Packages [83.9 kB]\n",
            "Fetched 20.0 MB in 6s (3,171 kB/s)\n",
            "Reading package lists... Done\n",
            "W: Skipping acquire of configured file 'main/source/Sources' as repository 'https://r2u.stat.illinois.edu/ubuntu jammy InRelease' does not seem to provide it (sources.list entry misspelt?)\n",
            "Reading package lists... Done\n",
            "Building dependency tree... Done\n",
            "Reading state information... Done\n",
            "The following additional packages will be installed:\n",
            "  fonts-dejavu-core fonts-dejavu-extra libatk-wrapper-java\n",
            "  libatk-wrapper-java-jni libxt-dev libxtst6 libxxf86dga1\n",
            "  openjdk-17-jdk-headless openjdk-17-jre openjdk-17-jre-headless x11-utils\n",
            "Suggested packages:\n",
            "  libxt-doc openjdk-17-demo openjdk-17-source visualvm libnss-mdns\n",
            "  fonts-ipafont-gothic fonts-ipafont-mincho fonts-wqy-microhei\n",
            "  | fonts-wqy-zenhei fonts-indic mesa-utils\n",
            "The following NEW packages will be installed:\n",
            "  fonts-dejavu-core fonts-dejavu-extra libatk-wrapper-java\n",
            "  libatk-wrapper-java-jni libxt-dev libxtst6 libxxf86dga1 openjdk-17-jdk\n",
            "  openjdk-17-jdk-headless openjdk-17-jre openjdk-17-jre-headless x11-utils\n",
            "0 upgraded, 12 newly installed, 0 to remove and 40 not upgraded.\n",
            "Need to get 125 MB of archives.\n",
            "After this operation, 287 MB of additional disk space will be used.\n",
            "Get:1 http://archive.ubuntu.com/ubuntu jammy/main amd64 fonts-dejavu-core all 2.37-2build1 [1,041 kB]\n",
            "Get:2 http://archive.ubuntu.com/ubuntu jammy/main amd64 fonts-dejavu-extra all 2.37-2build1 [2,041 kB]\n",
            "Get:3 http://archive.ubuntu.com/ubuntu jammy/main amd64 libxtst6 amd64 2:1.2.3-1build4 [13.4 kB]\n",
            "Get:4 http://archive.ubuntu.com/ubuntu jammy/main amd64 libxxf86dga1 amd64 2:1.1.5-0ubuntu3 [12.6 kB]\n",
            "Get:5 http://archive.ubuntu.com/ubuntu jammy/main amd64 x11-utils amd64 7.7+5build2 [206 kB]\n",
            "Get:6 http://archive.ubuntu.com/ubuntu jammy/main amd64 libatk-wrapper-java all 0.38.0-5build1 [53.1 kB]\n",
            "Get:7 http://archive.ubuntu.com/ubuntu jammy/main amd64 libatk-wrapper-java-jni amd64 0.38.0-5build1 [49.0 kB]\n",
            "Get:8 http://archive.ubuntu.com/ubuntu jammy/main amd64 libxt-dev amd64 1:1.2.1-1 [396 kB]\n",
            "Get:9 http://archive.ubuntu.com/ubuntu jammy-updates/universe amd64 openjdk-17-jre-headless amd64 17.0.16+8~us1-0ubuntu1~22.04.1 [48.3 MB]\n",
            "Get:10 http://archive.ubuntu.com/ubuntu jammy-updates/universe amd64 openjdk-17-jre amd64 17.0.16+8~us1-0ubuntu1~22.04.1 [232 kB]\n",
            "Get:11 http://archive.ubuntu.com/ubuntu jammy-updates/universe amd64 openjdk-17-jdk-headless amd64 17.0.16+8~us1-0ubuntu1~22.04.1 [71.3 MB]\n",
            "Get:12 http://archive.ubuntu.com/ubuntu jammy-updates/universe amd64 openjdk-17-jdk amd64 17.0.16+8~us1-0ubuntu1~22.04.1 [1,522 kB]\n",
            "Fetched 125 MB in 4s (31.6 MB/s)\n",
            "Selecting previously unselected package fonts-dejavu-core.\n",
            "(Reading database ... 126675 files and directories currently installed.)\n",
            "Preparing to unpack .../00-fonts-dejavu-core_2.37-2build1_all.deb ...\n",
            "Unpacking fonts-dejavu-core (2.37-2build1) ...\n",
            "Selecting previously unselected package fonts-dejavu-extra.\n",
            "Preparing to unpack .../01-fonts-dejavu-extra_2.37-2build1_all.deb ...\n",
            "Unpacking fonts-dejavu-extra (2.37-2build1) ...\n",
            "Selecting previously unselected package libxtst6:amd64.\n",
            "Preparing to unpack .../02-libxtst6_2%3a1.2.3-1build4_amd64.deb ...\n",
            "Unpacking libxtst6:amd64 (2:1.2.3-1build4) ...\n",
            "Selecting previously unselected package libxxf86dga1:amd64.\n",
            "Preparing to unpack .../03-libxxf86dga1_2%3a1.1.5-0ubuntu3_amd64.deb ...\n",
            "Unpacking libxxf86dga1:amd64 (2:1.1.5-0ubuntu3) ...\n",
            "Selecting previously unselected package x11-utils.\n",
            "Preparing to unpack .../04-x11-utils_7.7+5build2_amd64.deb ...\n",
            "Unpacking x11-utils (7.7+5build2) ...\n",
            "Selecting previously unselected package libatk-wrapper-java.\n",
            "Preparing to unpack .../05-libatk-wrapper-java_0.38.0-5build1_all.deb ...\n",
            "Unpacking libatk-wrapper-java (0.38.0-5build1) ...\n",
            "Selecting previously unselected package libatk-wrapper-java-jni:amd64.\n",
            "Preparing to unpack .../06-libatk-wrapper-java-jni_0.38.0-5build1_amd64.deb ...\n",
            "Unpacking libatk-wrapper-java-jni:amd64 (0.38.0-5build1) ...\n",
            "Selecting previously unselected package libxt-dev:amd64.\n",
            "Preparing to unpack .../07-libxt-dev_1%3a1.2.1-1_amd64.deb ...\n",
            "Unpacking libxt-dev:amd64 (1:1.2.1-1) ...\n",
            "Selecting previously unselected package openjdk-17-jre-headless:amd64.\n",
            "Preparing to unpack .../08-openjdk-17-jre-headless_17.0.16+8~us1-0ubuntu1~22.04.1_amd64.deb ...\n",
            "Unpacking openjdk-17-jre-headless:amd64 (17.0.16+8~us1-0ubuntu1~22.04.1) ...\n",
            "Selecting previously unselected package openjdk-17-jre:amd64.\n",
            "Preparing to unpack .../09-openjdk-17-jre_17.0.16+8~us1-0ubuntu1~22.04.1_amd64.deb ...\n",
            "Unpacking openjdk-17-jre:amd64 (17.0.16+8~us1-0ubuntu1~22.04.1) ...\n",
            "Selecting previously unselected package openjdk-17-jdk-headless:amd64.\n",
            "Preparing to unpack .../10-openjdk-17-jdk-headless_17.0.16+8~us1-0ubuntu1~22.04.1_amd64.deb ...\n",
            "Unpacking openjdk-17-jdk-headless:amd64 (17.0.16+8~us1-0ubuntu1~22.04.1) ...\n",
            "Selecting previously unselected package openjdk-17-jdk:amd64.\n",
            "Preparing to unpack .../11-openjdk-17-jdk_17.0.16+8~us1-0ubuntu1~22.04.1_amd64.deb ...\n",
            "Unpacking openjdk-17-jdk:amd64 (17.0.16+8~us1-0ubuntu1~22.04.1) ...\n",
            "Setting up libxtst6:amd64 (2:1.2.3-1build4) ...\n",
            "Setting up libxxf86dga1:amd64 (2:1.1.5-0ubuntu3) ...\n",
            "Setting up libxt-dev:amd64 (1:1.2.1-1) ...\n",
            "Setting up fonts-dejavu-core (2.37-2build1) ...\n",
            "Setting up openjdk-17-jre-headless:amd64 (17.0.16+8~us1-0ubuntu1~22.04.1) ...\n",
            "update-alternatives: using /usr/lib/jvm/java-17-openjdk-amd64/bin/java to provide /usr/bin/java (java) in auto mode\n",
            "update-alternatives: using /usr/lib/jvm/java-17-openjdk-amd64/bin/jpackage to provide /usr/bin/jpackage (jpackage) in auto mode\n",
            "update-alternatives: using /usr/lib/jvm/java-17-openjdk-amd64/bin/keytool to provide /usr/bin/keytool (keytool) in auto mode\n",
            "update-alternatives: using /usr/lib/jvm/java-17-openjdk-amd64/bin/rmiregistry to provide /usr/bin/rmiregistry (rmiregistry) in auto mode\n",
            "update-alternatives: using /usr/lib/jvm/java-17-openjdk-amd64/lib/jexec to provide /usr/bin/jexec (jexec) in auto mode\n",
            "Setting up fonts-dejavu-extra (2.37-2build1) ...\n",
            "Setting up x11-utils (7.7+5build2) ...\n",
            "Setting up libatk-wrapper-java (0.38.0-5build1) ...\n",
            "Setting up openjdk-17-jre:amd64 (17.0.16+8~us1-0ubuntu1~22.04.1) ...\n",
            "Setting up libatk-wrapper-java-jni:amd64 (0.38.0-5build1) ...\n",
            "Setting up openjdk-17-jdk-headless:amd64 (17.0.16+8~us1-0ubuntu1~22.04.1) ...\n",
            "update-alternatives: using /usr/lib/jvm/java-17-openjdk-amd64/bin/jar to provide /usr/bin/jar (jar) in auto mode\n",
            "update-alternatives: using /usr/lib/jvm/java-17-openjdk-amd64/bin/jarsigner to provide /usr/bin/jarsigner (jarsigner) in auto mode\n",
            "update-alternatives: using /usr/lib/jvm/java-17-openjdk-amd64/bin/javac to provide /usr/bin/javac (javac) in auto mode\n",
            "update-alternatives: using /usr/lib/jvm/java-17-openjdk-amd64/bin/javadoc to provide /usr/bin/javadoc (javadoc) in auto mode\n",
            "update-alternatives: using /usr/lib/jvm/java-17-openjdk-amd64/bin/javap to provide /usr/bin/javap (javap) in auto mode\n",
            "update-alternatives: using /usr/lib/jvm/java-17-openjdk-amd64/bin/jcmd to provide /usr/bin/jcmd (jcmd) in auto mode\n",
            "update-alternatives: using /usr/lib/jvm/java-17-openjdk-amd64/bin/jdb to provide /usr/bin/jdb (jdb) in auto mode\n",
            "update-alternatives: using /usr/lib/jvm/java-17-openjdk-amd64/bin/jdeprscan to provide /usr/bin/jdeprscan (jdeprscan) in auto mode\n",
            "update-alternatives: using /usr/lib/jvm/java-17-openjdk-amd64/bin/jdeps to provide /usr/bin/jdeps (jdeps) in auto mode\n",
            "update-alternatives: using /usr/lib/jvm/java-17-openjdk-amd64/bin/jfr to provide /usr/bin/jfr (jfr) in auto mode\n",
            "update-alternatives: using /usr/lib/jvm/java-17-openjdk-amd64/bin/jimage to provide /usr/bin/jimage (jimage) in auto mode\n",
            "update-alternatives: using /usr/lib/jvm/java-17-openjdk-amd64/bin/jinfo to provide /usr/bin/jinfo (jinfo) in auto mode\n",
            "update-alternatives: using /usr/lib/jvm/java-17-openjdk-amd64/bin/jlink to provide /usr/bin/jlink (jlink) in auto mode\n",
            "update-alternatives: using /usr/lib/jvm/java-17-openjdk-amd64/bin/jmap to provide /usr/bin/jmap (jmap) in auto mode\n",
            "update-alternatives: using /usr/lib/jvm/java-17-openjdk-amd64/bin/jmod to provide /usr/bin/jmod (jmod) in auto mode\n",
            "update-alternatives: using /usr/lib/jvm/java-17-openjdk-amd64/bin/jps to provide /usr/bin/jps (jps) in auto mode\n",
            "update-alternatives: using /usr/lib/jvm/java-17-openjdk-amd64/bin/jrunscript to provide /usr/bin/jrunscript (jrunscript) in auto mode\n",
            "update-alternatives: using /usr/lib/jvm/java-17-openjdk-amd64/bin/jshell to provide /usr/bin/jshell (jshell) in auto mode\n",
            "update-alternatives: using /usr/lib/jvm/java-17-openjdk-amd64/bin/jstack to provide /usr/bin/jstack (jstack) in auto mode\n",
            "update-alternatives: using /usr/lib/jvm/java-17-openjdk-amd64/bin/jstat to provide /usr/bin/jstat (jstat) in auto mode\n",
            "update-alternatives: using /usr/lib/jvm/java-17-openjdk-amd64/bin/jstatd to provide /usr/bin/jstatd (jstatd) in auto mode\n",
            "update-alternatives: using /usr/lib/jvm/java-17-openjdk-amd64/bin/serialver to provide /usr/bin/serialver (serialver) in auto mode\n",
            "update-alternatives: using /usr/lib/jvm/java-17-openjdk-amd64/bin/jhsdb to provide /usr/bin/jhsdb (jhsdb) in auto mode\n",
            "Setting up openjdk-17-jdk:amd64 (17.0.16+8~us1-0ubuntu1~22.04.1) ...\n",
            "update-alternatives: using /usr/lib/jvm/java-17-openjdk-amd64/bin/jconsole to provide /usr/bin/jconsole (jconsole) in auto mode\n",
            "Processing triggers for fontconfig (2.13.1-4.2ubuntu5) ...\n",
            "Processing triggers for hicolor-icon-theme (0.17-2) ...\n",
            "Processing triggers for libc-bin (2.35-0ubuntu3.8) ...\n",
            "/sbin/ldconfig.real: /usr/local/lib/libumf.so.0 is not a symbolic link\n",
            "\n",
            "/sbin/ldconfig.real: /usr/local/lib/libtbbmalloc.so.2 is not a symbolic link\n",
            "\n",
            "/sbin/ldconfig.real: /usr/local/lib/libtbbbind.so.3 is not a symbolic link\n",
            "\n",
            "/sbin/ldconfig.real: /usr/local/lib/libur_loader.so.0 is not a symbolic link\n",
            "\n",
            "/sbin/ldconfig.real: /usr/local/lib/libur_adapter_level_zero.so.0 is not a symbolic link\n",
            "\n",
            "/sbin/ldconfig.real: /usr/local/lib/libtbbbind_2_5.so.3 is not a symbolic link\n",
            "\n",
            "/sbin/ldconfig.real: /usr/local/lib/libtcm_debug.so.1 is not a symbolic link\n",
            "\n",
            "/sbin/ldconfig.real: /usr/local/lib/libur_adapter_level_zero_v2.so.0 is not a symbolic link\n",
            "\n",
            "/sbin/ldconfig.real: /usr/local/lib/libtbb.so.12 is not a symbolic link\n",
            "\n",
            "/sbin/ldconfig.real: /usr/local/lib/libtbbmalloc_proxy.so.2 is not a symbolic link\n",
            "\n",
            "/sbin/ldconfig.real: /usr/local/lib/libtbbbind_2_0.so.3 is not a symbolic link\n",
            "\n",
            "/sbin/ldconfig.real: /usr/local/lib/libhwloc.so.15 is not a symbolic link\n",
            "\n",
            "/sbin/ldconfig.real: /usr/local/lib/libur_adapter_opencl.so.0 is not a symbolic link\n",
            "\n",
            "/sbin/ldconfig.real: /usr/local/lib/libtcm.so.1 is not a symbolic link\n",
            "\n",
            "Processing triggers for man-db (2.10.2-1) ...\n",
            "Processing triggers for mailcap (3.70+nmu1ubuntu1) ...\n",
            "\u001b[2K     \u001b[90m━━━━━━━━━━━━━━━━━━━━━━━━━━━━━━━━━━━━━━━\u001b[0m \u001b[32m317.3/317.3 MB\u001b[0m \u001b[31m1.5 MB/s\u001b[0m eta \u001b[36m0:00:00\u001b[0m\n",
            "\u001b[?25h  Preparing metadata (setup.py) ... \u001b[?25l\u001b[?25hdone\n",
            "  Building wheel for pyspark (setup.py) ... \u001b[?25l\u001b[?25hdone\n",
            "Spark: 3.5.4\n"
          ]
        }
      ],
      "source": [
        "# Colab: Java + PySpark\n",
        "!apt-get update -y && apt-get install -y openjdk-17-jdk\n",
        "!pip install -q pyspark==3.5.4\n",
        "import os, subprocess\n",
        "os.environ[\"JAVA_HOME\"] = subprocess.check_output(\n",
        "    \"readlink -f /usr/bin/java | sed 's:/bin/java::'\", shell=True\n",
        ").decode().strip()\n",
        "from pyspark.sql import SparkSession\n",
        "spark = SparkSession.builder.master(\"local[*]\").appName(\"adult-mllib\").getOrCreate()\n",
        "print(\"Spark:\", spark.version)"
      ]
    },
    {
      "cell_type": "markdown",
      "metadata": {
        "application/vnd.databricks.v1+cell": {
          "inputWidgets": {},
          "nuid": "3c97b0a2-00f9-46fa-8e3d-661a6a5ef59d",
          "showTitle": false,
          "title": ""
        },
        "id": "7oFu5ZoQOhHE"
      },
      "source": [
        "## Exercise Overview\n",
        "In this exercise we will play with Spark [Datasets & Dataframes](https://spark.apache.org/docs/latest/sql-programming-guide.html#datasets-and-dataframes), some [Spark SQL](https://spark.apache.org/docs/latest/sql-programming-guide.html#sql), and build a couple of binary classifiaction models using [Spark ML](https://spark.apache.org/docs/latest/ml-guide.html) (with some [MLlib](https://spark.apache.org/mllib/) too).\n",
        "<br><br>\n",
        "The set up and approach will not be too dissimilar to the standard type of approach you might do in [Sklearn](http://scikit-learn.org/stable/index.html). Spark has matured to the stage now where for 90% of what you need to do (when analysisng tabular data) should be possible with Spark dataframes, SQL, and ML libraries. This is where this exerise is mainly trying to focus.  \n",
        "<br>\n",
        "\n",
        "#### Links & References\n",
        "\n",
        "Some useful links and references of sources used in creating this exercise:\n",
        "\n",
        "**Note**: Right click and open as new tab!\n",
        "<br>\n",
        "1. [Latest Spark Docs](https://spark.apache.org/docs/latest/index.html)\n",
        "1. [Databricks Homepage](https://databricks.com/)\n",
        "1. [Databricks Community Edition FAQ](https://databricks.com/product/faq/community-edition)\n",
        "1. [Databricks Self Paced Training](https://databricks.com/training-overview/training-self-paced)\n",
        "1. [Databricks Notebook Guide](https://docs.databricks.com/user-guide/notebooks/index.html)\n",
        "1. [Databricks Binary Classification Tutorial](https://docs.databricks.com/spark/latest/mllib/binary-classification-mllib-pipelines.html#binary-classification)"
      ]
    },
    {
      "cell_type": "markdown",
      "metadata": {
        "application/vnd.databricks.v1+cell": {
          "inputWidgets": {},
          "nuid": "695a1fed-7ad1-4a91-bd70-46e0275a793e",
          "showTitle": false,
          "title": ""
        },
        "id": "fNxZiHwwOhHF"
      },
      "source": [
        "#### Get Data\n",
        "\n",
        "Here we will pull in some sample data from the UCI data repository.\n",
        "\n",
        "Feel free to adapt this notebook later to play around with a different dataset if you like (all available are listed in a cell below)."
      ]
    },
    {
      "cell_type": "code",
      "execution_count": 2,
      "metadata": {
        "colab": {
          "base_uri": "https://localhost:8080/"
        },
        "id": "V0BslTH7OhHF",
        "outputId": "c91aecf9-1dd9-4857-835b-af3e88b93a9e"
      },
      "outputs": [
        {
          "output_type": "stream",
          "name": "stdout",
          "text": [
            "+------+\n",
            "|n_rows|\n",
            "+------+\n",
            "| 30162|\n",
            "+------+\n",
            "\n",
            "+---+----------------+------+---------+-------------+------------------+-----------------+-------------+-----+------+------------+------------+--------------+--------------+------+\n",
            "|age|       workclass|fnlwgt|education|education_num|    marital_status|       occupation| relationship| race|   sex|capital_gain|capital_loss|hours_per_week|native_country|income|\n",
            "+---+----------------+------+---------+-------------+------------------+-----------------+-------------+-----+------+------------+------------+--------------+--------------+------+\n",
            "| 39|       State-gov| 77516|Bachelors|           13|     Never-married|     Adm-clerical|Not-in-family|White|  Male|        2174|           0|            40| United-States| <=50K|\n",
            "| 50|Self-emp-not-inc| 83311|Bachelors|           13|Married-civ-spouse|  Exec-managerial|      Husband|White|  Male|           0|           0|            13| United-States| <=50K|\n",
            "| 38|         Private|215646|  HS-grad|            9|          Divorced|Handlers-cleaners|Not-in-family|White|  Male|           0|           0|            40| United-States| <=50K|\n",
            "| 53|         Private|234721|     11th|            7|Married-civ-spouse|Handlers-cleaners|      Husband|Black|  Male|           0|           0|            40| United-States| <=50K|\n",
            "| 28|         Private|338409|Bachelors|           13|Married-civ-spouse|   Prof-specialty|         Wife|Black|Female|           0|           0|            40|          Cuba| <=50K|\n",
            "+---+----------------+------+---------+-------------+------------------+-----------------+-------------+-----+------+------------+------------+--------------+--------------+------+\n",
            "\n"
          ]
        }
      ],
      "source": [
        "try:\n",
        "    spark\n",
        "except NameError:\n",
        "    from pyspark.sql import SparkSession\n",
        "    spark = (\n",
        "        SparkSession.builder\n",
        "        .master(\"local[*]\")\n",
        "        .appName(\"adult-colab\")\n",
        "        .getOrCreate()\n",
        "    )\n",
        "import pandas as pd\n",
        "cols = [\n",
        "    \"age\",\"workclass\",\"fnlwgt\",\"education\",\"education_num\",\"marital_status\",\n",
        "    \"occupation\",\"relationship\",\"race\",\"sex\",\"capital_gain\",\"capital_loss\",\n",
        "    \"hours_per_week\",\"native_country\",\"income\"\n",
        "]\n",
        "pdf = pd.read_csv(\n",
        "    \"https://archive.ics.uci.edu/ml/machine-learning-databases/adult/adult.data\",\n",
        "    header=None,\n",
        "    names=cols,\n",
        "    skipinitialspace=True,\n",
        "    na_values=[\"?\", \" ?\"]\n",
        ")\n",
        "for c in pdf.select_dtypes(include=\"object\").columns:\n",
        "    pdf[c] = pdf[c].str.strip()\n",
        "pdf = pdf.dropna().reset_index(drop=True)\n",
        "sdf = spark.createDataFrame(pdf)\n",
        "spark.sql(\"CREATE DATABASE IF NOT EXISTS main\")\n",
        "spark.sql(\"USE main\")\n",
        "spark.sql(\"DROP TABLE IF EXISTS adult\")\n",
        "sdf.createOrReplaceTempView(\"adult_src\")\n",
        "spark.sql(\"\"\"\n",
        "CREATE TABLE adult\n",
        "USING PARQUET\n",
        "AS SELECT * FROM adult_src\n",
        "\"\"\")\n",
        "spark.sql(\"CREATE OR REPLACE TEMP VIEW adult AS SELECT * FROM adult\")\n",
        "spark.sql(\"SELECT COUNT(*) AS n_rows FROM adult\").show()\n",
        "spark.sql(\"SELECT * FROM adult LIMIT 5\").show()"
      ]
    },
    {
      "cell_type": "markdown",
      "metadata": {
        "application/vnd.databricks.v1+cell": {
          "inputWidgets": {},
          "nuid": "84d3180c-0f4b-4375-8f97-7975ca99ef77",
          "showTitle": false,
          "title": ""
        },
        "id": "qS9JZhdtOhHF"
      },
      "source": [
        "#### Spark SQL\n",
        "Below we will use Spark SQL to load in the data and then register it as a Dataframe aswell. So the end result will be a Spark SQL table called 'adult' and a Spark Dataframe called 'df_adult'.\n",
        "<br><br>\n",
        "This is an example of the flexibility in Spark in that you could do lots of you ETL and data wrangling using either Spark SQL or Dataframes and pyspark. Most of the time it's a case of using whatever you are most comfortable with.\n",
        "<br><br>\n",
        "When you get more advanced then you might consider learning about the pro's and con's of each and in what circumstances you might favour one over the other (or operating direclty on RDD's), [here](https://databricks.com/blog/2016/07/14/a-tale-of-three-apache-spark-apis-rdds-dataframes-and-datasets.html) is a good article on the issues. For now, no need to overthink it!"
      ]
    },
    {
      "cell_type": "code",
      "execution_count": 3,
      "metadata": {
        "application/vnd.databricks.v1+cell": {
          "inputWidgets": {},
          "nuid": "b73f000c-7068-4d9c-a559-18dc7bda95f0",
          "showTitle": false,
          "title": ""
        },
        "colab": {
          "base_uri": "https://localhost:8080/"
        },
        "id": "hDbZJSDDOhHF",
        "outputId": "bae6a502-1c17-4f1e-a0a7-b5a24c0c48bd"
      },
      "outputs": [
        {
          "output_type": "stream",
          "name": "stdout",
          "text": [
            "+---+----------------+------+---------+-------------+------------------+-----------------+-------------+-----+------+------------+------------+--------------+--------------+------+\n",
            "|age|       workclass|fnlwgt|education|education_num|    marital_status|       occupation| relationship| race|   sex|capital_gain|capital_loss|hours_per_week|native_country|income|\n",
            "+---+----------------+------+---------+-------------+------------------+-----------------+-------------+-----+------+------------+------------+--------------+--------------+------+\n",
            "| 39|       State-gov| 77516|Bachelors|           13|     Never-married|     Adm-clerical|Not-in-family|White|  Male|        2174|           0|            40| United-States| <=50K|\n",
            "| 50|Self-emp-not-inc| 83311|Bachelors|           13|Married-civ-spouse|  Exec-managerial|      Husband|White|  Male|           0|           0|            13| United-States| <=50K|\n",
            "| 38|         Private|215646|  HS-grad|            9|          Divorced|Handlers-cleaners|Not-in-family|White|  Male|           0|           0|            40| United-States| <=50K|\n",
            "| 53|         Private|234721|     11th|            7|Married-civ-spouse|Handlers-cleaners|      Husband|Black|  Male|           0|           0|            40| United-States| <=50K|\n",
            "| 28|         Private|338409|Bachelors|           13|Married-civ-spouse|   Prof-specialty|         Wife|Black|Female|           0|           0|            40|          Cuba| <=50K|\n",
            "+---+----------------+------+---------+-------------+------------------+-----------------+-------------+-----+------+------------+------------+--------------+--------------+------+\n",
            "\n"
          ]
        }
      ],
      "source": [
        "# look at the data\n",
        "spark.sql(\"SELECT * FROM adult LIMIT 5\").show()"
      ]
    },
    {
      "cell_type": "markdown",
      "metadata": {
        "application/vnd.databricks.v1+cell": {
          "inputWidgets": {},
          "nuid": "7b41c5e9-3101-41ba-a7e9-9e84399f3150",
          "showTitle": false,
          "title": ""
        },
        "id": "OE51stVZOhHG"
      },
      "source": [
        "If you are more comfortable with SQL then as you can see below, its very easy to just get going with writing standard SQL type code to analyse your data, do data wrangling and create new dataframes."
      ]
    },
    {
      "cell_type": "code",
      "execution_count": 4,
      "metadata": {
        "application/vnd.databricks.v1+cell": {
          "inputWidgets": {},
          "nuid": "1219e3d2-a3ff-4d81-b688-c6751f950822",
          "showTitle": false,
          "title": ""
        },
        "colab": {
          "base_uri": "https://localhost:8080/"
        },
        "id": "f5quCZziOhHG",
        "outputId": "b861c75c-f8cb-44ca-ba4b-7f1595e0e947"
      },
      "outputs": [
        {
          "output_type": "stream",
          "name": "stdout",
          "text": [
            "+-----------------+----+------------+----------+------------+--------------+-------------+\n",
            "|       occupation|   n|married_rate|widow_rate|divorce_rate|separated_rate|bachelor_rate|\n",
            "+-----------------+----+------------+----------+------------+--------------+-------------+\n",
            "|   Prof-specialty|4038|        0.52|      0.02|        0.13|          0.02|          0.3|\n",
            "|     Craft-repair|4030|        0.64|      0.01|        0.11|          0.02|         0.21|\n",
            "|  Exec-managerial|3992|        0.61|      0.02|        0.15|          0.02|          0.2|\n",
            "|     Adm-clerical|3721|        0.28|      0.04|        0.22|          0.04|         0.42|\n",
            "|            Sales|3584|        0.46|      0.03|        0.12|          0.03|         0.36|\n",
            "|    Other-service|3212|        0.24|      0.05|        0.15|          0.06|          0.5|\n",
            "|Machine-op-inspct|1966|        0.51|      0.03|        0.14|          0.04|         0.29|\n",
            "| Transport-moving|1572|        0.64|      0.02|        0.11|          0.02|         0.21|\n",
            "|Handlers-cleaners|1350|        0.35|      0.01|        0.09|          0.03|         0.51|\n",
            "|  Farming-fishing| 989|        0.61|      0.02|        0.06|          0.02|         0.29|\n",
            "|     Tech-support| 912|        0.44|      0.02|        0.15|          0.03|         0.36|\n",
            "|  Protective-serv| 644|         0.6|      0.01|        0.12|          0.02|         0.24|\n",
            "|  Priv-house-serv| 143|        0.13|      0.15|        0.19|          0.08|         0.44|\n",
            "|     Armed-Forces|   9|        0.33|       0.0|         0.0|           0.0|         0.67|\n",
            "+-----------------+----+------------+----------+------------+--------------+-------------+\n",
            "\n"
          ]
        }
      ],
      "source": [
        "# Lets get some summary marital status rates by occupation\n",
        "result = spark.sql(\n",
        "  \"\"\"\n",
        "  SELECT\n",
        "    occupation,\n",
        "    SUM(1) as n,\n",
        "    ROUND(AVG(if(LTRIM(marital_status) LIKE 'Married-%',1,0)),2) as married_rate,\n",
        "    ROUND(AVG(if(lower(marital_status) LIKE '%widow%',1,0)),2) as widow_rate,\n",
        "    ROUND(AVG(if(LTRIM(marital_status) = 'Divorced',1,0)),2) as divorce_rate,\n",
        "    ROUND(AVG(if(LTRIM(marital_status) = 'Separated',1,0)),2) as separated_rate,\n",
        "    ROUND(AVG(if(LTRIM(marital_status) = 'Never-married',1,0)),2) as bachelor_rate\n",
        "  FROM\n",
        "    adult\n",
        "  GROUP BY 1\n",
        "  ORDER BY n DESC\n",
        "  \"\"\")\n",
        "result.show()"
      ]
    },
    {
      "cell_type": "markdown",
      "metadata": {
        "application/vnd.databricks.v1+cell": {
          "inputWidgets": {},
          "nuid": "ce745db8-1b57-47cd-976b-4ce3ee440604",
          "showTitle": false,
          "title": ""
        },
        "id": "33oJTT7EOhHG"
      },
      "source": [
        "You can easily register dataframes as a table for Spark SQL too. So this way you can easily move between Dataframes and Spark SQL for whatever reason."
      ]
    },
    {
      "cell_type": "code",
      "execution_count": 5,
      "metadata": {
        "application/vnd.databricks.v1+cell": {
          "inputWidgets": {},
          "nuid": "9007db35-22d8-4432-bcea-9bbb90017fa3",
          "showTitle": false,
          "title": ""
        },
        "colab": {
          "base_uri": "https://localhost:8080/"
        },
        "id": "gKDQHQu4OhHG",
        "outputId": "d867a044-0de7-47e9-f3ec-633813224016"
      },
      "outputs": [
        {
          "output_type": "stream",
          "name": "stdout",
          "text": [
            "+---------------+----+------------+----------+------------+--------------+-------------+\n",
            "|     occupation|   n|married_rate|widow_rate|divorce_rate|separated_rate|bachelor_rate|\n",
            "+---------------+----+------------+----------+------------+--------------+-------------+\n",
            "| Prof-specialty|4038|        0.52|      0.02|        0.13|          0.02|          0.3|\n",
            "|   Craft-repair|4030|        0.64|      0.01|        0.11|          0.02|         0.21|\n",
            "|Exec-managerial|3992|        0.61|      0.02|        0.15|          0.02|          0.2|\n",
            "|   Adm-clerical|3721|        0.28|      0.04|        0.22|          0.04|         0.42|\n",
            "|          Sales|3584|        0.46|      0.03|        0.12|          0.03|         0.36|\n",
            "+---------------+----+------------+----------+------------+--------------+-------------+\n",
            "only showing top 5 rows\n",
            "\n"
          ]
        }
      ],
      "source": [
        "# register the df we just made as a table for spark sql\n",
        "result.createOrReplaceTempView(\"result\")\n",
        "spark.sql(\"SELECT * FROM result\").show(5)"
      ]
    },
    {
      "cell_type": "markdown",
      "metadata": {
        "application/vnd.databricks.v1+cell": {
          "inputWidgets": {},
          "nuid": "24bbcd7e-55ec-4929-a898-09a27acf9269",
          "showTitle": false,
          "title": ""
        },
        "id": "58cIspoOOhHH"
      },
      "source": [
        "#### <span style=\"color:darkblue\">Question 1</span>\n",
        "\n",
        "1. Write some spark sql to get the top 'bachelor_rate' by 'education' group?"
      ]
    },
    {
      "cell_type": "code",
      "execution_count": 6,
      "metadata": {
        "application/vnd.databricks.v1+cell": {
          "inputWidgets": {},
          "nuid": "964b6472-2d89-4158-b517-0955f1e3c587",
          "showTitle": false,
          "title": ""
        },
        "id": "Pa_T7jC_OhHH",
        "outputId": "01d59e4d-2f7f-4a76-d604-1ab9645eaf98",
        "colab": {
          "base_uri": "https://localhost:8080/"
        }
      },
      "outputs": [
        {
          "output_type": "stream",
          "name": "stdout",
          "text": [
            "+---------+---+-------------+\n",
            "|education|  n|bachelor_rate|\n",
            "+---------+---+-------------+\n",
            "|     12th|377|         0.54|\n",
            "+---------+---+-------------+\n",
            "\n"
          ]
        }
      ],
      "source": [
        "### Question 1.1 Answer ###\n",
        "\n",
        "result = spark.sql(\n",
        "    \"\"\"\n",
        "    SELECT\n",
        "      education,\n",
        "      SUM(1) as n,\n",
        "      ROUND(AVG(if(LTRIM(marital_status) = 'Never-married',1,0)),2) as bachelor_rate\n",
        "    FROM\n",
        "      adult\n",
        "    GROUP BY 1\n",
        "    ORDER BY bachelor_rate DESC\n",
        "    LIMIT 1\n",
        "    \"\"\")\n",
        "result.show()"
      ]
    },
    {
      "cell_type": "markdown",
      "metadata": {
        "application/vnd.databricks.v1+cell": {
          "inputWidgets": {},
          "nuid": "82050620-e0ac-45a1-96ac-11ddce045cb9",
          "showTitle": false,
          "title": ""
        },
        "id": "Dt6nyAlCOhHH"
      },
      "source": [
        "#### Spark DataFrames\n",
        "Below we will create our DataFrame from the SQL table and do some similar analysis as we did with Spark SQL but using the DataFrames API."
      ]
    },
    {
      "cell_type": "code",
      "execution_count": 7,
      "metadata": {
        "application/vnd.databricks.v1+cell": {
          "inputWidgets": {},
          "nuid": "cbad390a-677d-4b3b-8e01-9dd7bb211ab2",
          "showTitle": false,
          "title": ""
        },
        "id": "WuB1O_I0OhHH"
      },
      "outputs": [],
      "source": [
        "# register a df from the sql df\n",
        "df_adult = spark.table(\"adult\")\n",
        "cols = df_adult.columns # this will be used much later in the notebook, ignore for now"
      ]
    },
    {
      "cell_type": "code",
      "execution_count": 8,
      "metadata": {
        "application/vnd.databricks.v1+cell": {
          "inputWidgets": {},
          "nuid": "da26c930-94a3-4289-ab00-61f5b283f9c5",
          "showTitle": false,
          "title": ""
        },
        "colab": {
          "base_uri": "https://localhost:8080/"
        },
        "id": "cEIO5mV4OhHH",
        "outputId": "86559b88-ee8d-48c2-dbcf-57c027c9fe54"
      },
      "outputs": [
        {
          "output_type": "stream",
          "name": "stdout",
          "text": [
            "root\n",
            " |-- age: long (nullable = true)\n",
            " |-- workclass: string (nullable = true)\n",
            " |-- fnlwgt: long (nullable = true)\n",
            " |-- education: string (nullable = true)\n",
            " |-- education_num: long (nullable = true)\n",
            " |-- marital_status: string (nullable = true)\n",
            " |-- occupation: string (nullable = true)\n",
            " |-- relationship: string (nullable = true)\n",
            " |-- race: string (nullable = true)\n",
            " |-- sex: string (nullable = true)\n",
            " |-- capital_gain: long (nullable = true)\n",
            " |-- capital_loss: long (nullable = true)\n",
            " |-- hours_per_week: long (nullable = true)\n",
            " |-- native_country: string (nullable = true)\n",
            " |-- income: string (nullable = true)\n",
            "\n"
          ]
        }
      ],
      "source": [
        "# look at df schema\n",
        "df_adult.printSchema()"
      ]
    },
    {
      "cell_type": "code",
      "execution_count": 27,
      "metadata": {
        "application/vnd.databricks.v1+cell": {
          "inputWidgets": {},
          "nuid": "0443d5cc-85c8-462c-8998-0334ac36d6c1",
          "showTitle": false,
          "title": ""
        },
        "colab": {
          "base_uri": "https://localhost:8080/"
        },
        "id": "1mJVUFnWOhHH",
        "outputId": "8954d3b3-2b7f-4547-bcde-76dec1e89535"
      },
      "outputs": [
        {
          "output_type": "stream",
          "name": "stdout",
          "text": [
            "+---+----------------+------+---------+-------------+------------------+-----------------+-------------+-----+------+------------+------------+--------------+--------------+------+\n",
            "|age|       workclass|fnlwgt|education|education_num|    marital_status|       occupation| relationship| race|   sex|capital_gain|capital_loss|hours_per_week|native_country|income|\n",
            "+---+----------------+------+---------+-------------+------------------+-----------------+-------------+-----+------+------------+------------+--------------+--------------+------+\n",
            "| 39|       State-gov| 77516|Bachelors|           13|     Never-married|     Adm-clerical|Not-in-family|White|  Male|        2174|           0|            40| United-States| <=50K|\n",
            "| 50|Self-emp-not-inc| 83311|Bachelors|           13|Married-civ-spouse|  Exec-managerial|      Husband|White|  Male|           0|           0|            13| United-States| <=50K|\n",
            "| 38|         Private|215646|  HS-grad|            9|          Divorced|Handlers-cleaners|Not-in-family|White|  Male|           0|           0|            40| United-States| <=50K|\n",
            "| 53|         Private|234721|     11th|            7|Married-civ-spouse|Handlers-cleaners|      Husband|Black|  Male|           0|           0|            40| United-States| <=50K|\n",
            "| 28|         Private|338409|Bachelors|           13|Married-civ-spouse|   Prof-specialty|         Wife|Black|Female|           0|           0|            40|          Cuba| <=50K|\n",
            "+---+----------------+------+---------+-------------+------------------+-----------------+-------------+-----+------+------------+------------+--------------+--------------+------+\n",
            "only showing top 5 rows\n",
            "\n"
          ]
        }
      ],
      "source": [
        "# look at the df\n",
        "#display(df_adult)\n",
        "df_adult.show(5)"
      ]
    },
    {
      "cell_type": "markdown",
      "metadata": {
        "application/vnd.databricks.v1+cell": {
          "inputWidgets": {},
          "nuid": "c6f3c980-fda5-4a86-8a83-75846e041b74",
          "showTitle": false,
          "title": ""
        },
        "id": "CEhyayQ2OhHH"
      },
      "source": [
        "Below we will do a similar calulation to what we did above but using the DataFrames API"
      ]
    },
    {
      "cell_type": "code",
      "execution_count": 29,
      "metadata": {
        "application/vnd.databricks.v1+cell": {
          "inputWidgets": {},
          "nuid": "460c47b6-0405-4ce6-8015-39625fbc514a",
          "showTitle": false,
          "title": ""
        },
        "colab": {
          "base_uri": "https://localhost:8080/"
        },
        "id": "G0pBrCOROhHH",
        "outputId": "9e0023b9-dc6c-4b7d-99a8-065e87c67e86"
      },
      "outputs": [
        {
          "output_type": "stream",
          "name": "stdout",
          "text": [
            "+---------------+-------------+\n",
            "|     occupation|divorced_rate|\n",
            "+---------------+-------------+\n",
            "|   Adm-clerical|         0.22|\n",
            "|Priv-house-serv|         0.19|\n",
            "|   Tech-support|         0.15|\n",
            "|Exec-managerial|         0.15|\n",
            "|  Other-service|         0.15|\n",
            "+---------------+-------------+\n",
            "only showing top 5 rows\n",
            "\n"
          ]
        }
      ],
      "source": [
        "# import what we will need\n",
        "from pyspark.sql.functions import when, col, mean, desc, round\n",
        "\n",
        "# wrangle the data a bit\n",
        "df_result = df_adult.select(\n",
        "  df_adult['occupation'],\n",
        "  # create a 1/0 type col on the fly\n",
        "  when( col('marital_status') == 'Divorced' , 1 ).otherwise(0).alias('is_divorced')\n",
        ")\n",
        "# do grouping (and a round)\n",
        "df_result = df_result.groupBy('occupation').agg(round(mean('is_divorced'),2).alias('divorced_rate'))\n",
        "# do ordering\n",
        "df_result = df_result.orderBy(desc('divorced_rate'))\n",
        "# show results\n",
        "df_result.show(5)"
      ]
    },
    {
      "cell_type": "markdown",
      "metadata": {
        "application/vnd.databricks.v1+cell": {
          "inputWidgets": {},
          "nuid": "2e688a7f-a03c-4c74-94ae-42d999aca3bc",
          "showTitle": false,
          "title": ""
        },
        "id": "O5hfkSEAOhHH"
      },
      "source": [
        "As you can see the dataframes api is a bit more verbose then just expressing what you want to do in standard SQL.<br><br>But some prefer it and might be more used to it, and there could be cases where expressing what you need to do might just be better using the DataFrame API if it is too complicated for a simple SQL expression for example of maybe involves recursion of some type."
      ]
    },
    {
      "cell_type": "markdown",
      "metadata": {
        "application/vnd.databricks.v1+cell": {
          "inputWidgets": {},
          "nuid": "252f073d-4272-4703-886a-4b37c9cd47f6",
          "showTitle": false,
          "title": ""
        },
        "id": "AOjxgxocOhHH"
      },
      "source": [
        "#### <span style=\"color:darkblue\">Question 2</span>\n",
        "1. Write some pyspark to get the top 'bachelor_rate' by 'education' group using DataFrame operations?"
      ]
    },
    {
      "cell_type": "code",
      "execution_count": 24,
      "metadata": {
        "application/vnd.databricks.v1+cell": {
          "inputWidgets": {},
          "nuid": "7d5c2957-a783-47ec-bcfd-a769ba0cf294",
          "showTitle": false,
          "title": ""
        },
        "id": "Nh3Gr304OhHH",
        "outputId": "42bf91be-013c-4151-da83-4b734cb111e8",
        "colab": {
          "base_uri": "https://localhost:8080/"
        }
      },
      "outputs": [
        {
          "output_type": "stream",
          "name": "stdout",
          "text": [
            "+---------+-------------+\n",
            "|education|bachelor_rate|\n",
            "+---------+-------------+\n",
            "|     12th|         0.54|\n",
            "+---------+-------------+\n",
            "only showing top 1 row\n",
            "\n"
          ]
        }
      ],
      "source": [
        "### Question 2.1 Answer ###\n",
        "\n",
        "# wrangle the data a bit\n",
        "df_result = df_adult.select(\n",
        "  df_adult['education'],\n",
        "  when( col('marital_status') == 'Never-married', 1).otherwise(0).alias('is_bachelor')\n",
        ")\n",
        "\n",
        "df_result = df_result.groupBy('education').agg(round(mean('is_bachelor'), 2).alias('bachelor_rate'))\n",
        "\n",
        "df_result = df_result.orderBy(desc('bachelor_rate'))\n",
        "df_result.show(1)"
      ]
    },
    {
      "cell_type": "markdown",
      "metadata": {
        "application/vnd.databricks.v1+cell": {
          "inputWidgets": {},
          "nuid": "99f244c2-4b2e-4727-8c65-66cbd75a69f8",
          "showTitle": false,
          "title": ""
        },
        "id": "dBW7WRRyOhHI"
      },
      "source": [
        "#### Explore & Visualize Data\n",
        "It's very easy to [collect()](https://spark.apache.org/docs/latest/rdd-programming-guide.html#printing-elements-of-an-rdd) your Spark DataFrame data into a Pandas df and then continue to analyse or plot as you might normally.\n",
        "<br><br>\n",
        "Obviously if you try to collect() a huge DataFrame then you will run into issues, so usually you would only collect aggregated or sampled data into a Pandas df."
      ]
    },
    {
      "cell_type": "code",
      "execution_count": 30,
      "metadata": {
        "application/vnd.databricks.v1+cell": {
          "inputWidgets": {},
          "nuid": "7640afab-8c43-46e2-91c6-43b5834e1a23",
          "showTitle": false,
          "title": ""
        },
        "colab": {
          "base_uri": "https://localhost:8080/"
        },
        "id": "dfnVFmd4OhHI",
        "outputId": "8d8bd235-ee87-4861-c127-6e2aada377f8"
      },
      "outputs": [
        {
          "output_type": "stream",
          "name": "stdout",
          "text": [
            "        occupation  plus_50k\n",
            "0  Exec-managerial  0.485220\n",
            "1   Prof-specialty  0.448489\n",
            "2  Protective-serv  0.326087\n",
            "3     Tech-support  0.304825\n",
            "4            Sales  0.270647\n"
          ]
        }
      ],
      "source": [
        "import pandas as pd\n",
        "\n",
        "# do some analysis\n",
        "result = spark.sql(\n",
        "  \"\"\"\n",
        "  SELECT\n",
        "    occupation,\n",
        "    AVG(IF(income = '>50K',1,0)) as plus_50k\n",
        "  FROM\n",
        "    adult\n",
        "  GROUP BY 1\n",
        "  ORDER BY 2 DESC\n",
        "  \"\"\")\n",
        "\n",
        "# collect results into a pandas df\n",
        "df_pandas = pd.DataFrame(\n",
        "  result.collect(),\n",
        "  columns=result.schema.names\n",
        ")\n",
        "\n",
        "# look at df\n",
        "print(df_pandas.head())"
      ]
    },
    {
      "cell_type": "code",
      "execution_count": 31,
      "metadata": {
        "application/vnd.databricks.v1+cell": {
          "inputWidgets": {},
          "nuid": "5e7e5b12-632a-4dd9-b66b-6fb03ea902d4",
          "showTitle": false,
          "title": ""
        },
        "colab": {
          "base_uri": "https://localhost:8080/"
        },
        "id": "2QlyeoWhOhHI",
        "outputId": "edb305c0-5182-4743-9380-85b92ebb0deb"
      },
      "outputs": [
        {
          "output_type": "stream",
          "name": "stdout",
          "text": [
            "        plus_50k\n",
            "count  14.000000\n",
            "mean    0.204209\n",
            "std     0.147293\n",
            "min     0.006993\n",
            "25%     0.112403\n",
            "50%     0.168381\n",
            "75%     0.296280\n",
            "max     0.485220\n"
          ]
        }
      ],
      "source": [
        "print(df_pandas.describe())"
      ]
    },
    {
      "cell_type": "code",
      "execution_count": 32,
      "metadata": {
        "application/vnd.databricks.v1+cell": {
          "inputWidgets": {},
          "nuid": "a71f0594-35e9-480b-b3c9-7793765e3af2",
          "showTitle": false,
          "title": ""
        },
        "colab": {
          "base_uri": "https://localhost:8080/"
        },
        "id": "1_pfoePNOhHI",
        "outputId": "50d87a21-e625-4e3f-9bd0-9bc6fd3d6e15"
      },
      "outputs": [
        {
          "output_type": "stream",
          "name": "stdout",
          "text": [
            "<class 'pandas.core.frame.DataFrame'>\n",
            "RangeIndex: 14 entries, 0 to 13\n",
            "Data columns (total 2 columns):\n",
            " #   Column      Non-Null Count  Dtype  \n",
            "---  ------      --------------  -----  \n",
            " 0   occupation  14 non-null     object \n",
            " 1   plus_50k    14 non-null     float64\n",
            "dtypes: float64(1), object(1)\n",
            "memory usage: 356.0+ bytes\n",
            "None\n"
          ]
        }
      ],
      "source": [
        "print(df_pandas.info())"
      ]
    },
    {
      "cell_type": "markdown",
      "metadata": {
        "application/vnd.databricks.v1+cell": {
          "inputWidgets": {},
          "nuid": "b1090b4c-4789-4b83-84c7-6150b8158026",
          "showTitle": false,
          "title": ""
        },
        "id": "1utTELSLOhHI"
      },
      "source": [
        "Here we will just do some very basic plotting to show how you might collect what you are interested in into a Pandas DF and then just plot any way you normally would.\n",
        "\n",
        "For simplicity we are going to use the plotting functionality built into pandas (you could make this a pretty as you want)."
      ]
    },
    {
      "cell_type": "code",
      "execution_count": 33,
      "metadata": {
        "application/vnd.databricks.v1+cell": {
          "inputWidgets": {},
          "nuid": "946501d8-b915-4fbd-b9cb-a0a31a802078",
          "showTitle": false,
          "title": ""
        },
        "id": "c8Ft7-iZOhHI",
        "outputId": "c71f99a3-e2c7-491d-ce28-1abeb2599d39",
        "colab": {
          "base_uri": "https://localhost:8080/",
          "height": 843
        }
      },
      "outputs": [
        {
          "output_type": "display_data",
          "data": {
            "text/plain": [
              "<Figure size 640x480 with 1 Axes>"
            ],
            "image/png": "[encoded data removed]"
          },
          "metadata": {}
        },
        {
          "output_type": "display_data",
          "data": {
            "text/plain": [
              "<Figure size 640x480 with 1 Axes>"
            ],
            "image/png": "[encoded data removed]"
          },
          "metadata": {}
        }
      ],
      "source": [
        "import matplotlib.pyplot as plt\n",
        "\n",
        "# i like ggplot style\n",
        "plt.style.use('ggplot')\n",
        "\n",
        "# get simple plot on the pandas data\n",
        "myplot = df_pandas.plot(kind='barh', x='occupation', y='plus_50k')\n",
        "\n",
        "# display the plot (note - display() is a databricks function -\n",
        "# more info on plotting in Databricks is here: https://docs.databricks.com/user-guide/visualizations/matplotlib-and-ggplot.html)\n",
        "display(myplot.figure)"
      ]
    },
    {
      "cell_type": "markdown",
      "metadata": {
        "application/vnd.databricks.v1+cell": {
          "inputWidgets": {},
          "nuid": "1c9aafee-4f84-4f93-96ac-70a73bc2a588",
          "showTitle": false,
          "title": ""
        },
        "id": "EO3s8YwFOhHI"
      },
      "source": [
        "You can also easily get summary stats on a Spark DataFrame like below. [Here](https://databricks.com/blog/2015/06/02/statistical-and-mathematical-functions-with-dataframes-in-spark.html) is a nice blog post that has more examples.<br><br>So this is an example of why you might want to move from Spark SQL into DataFrames API as being able to just call describe() on the Spark DF is easier then trying to do the equivilant in Spark SQL."
      ]
    },
    {
      "cell_type": "code",
      "execution_count": 34,
      "metadata": {
        "application/vnd.databricks.v1+cell": {
          "inputWidgets": {},
          "nuid": "b2fa9c46-ff91-4424-ad28-9dd4f74f078e",
          "showTitle": false,
          "title": ""
        },
        "colab": {
          "base_uri": "https://localhost:8080/"
        },
        "id": "tBAcsZhXOhHI",
        "outputId": "641c4f96-7490-4499-8f49-afda794c479b"
      },
      "outputs": [
        {
          "output_type": "stream",
          "name": "stdout",
          "text": [
            "+-------+------------------+-----------------+\n",
            "|summary|               age|    education_num|\n",
            "+-------+------------------+-----------------+\n",
            "|  count|             30162|            30162|\n",
            "|   mean|38.437901995888865|10.12131158411246|\n",
            "| stddev|13.134664776856003|2.549994918856731|\n",
            "|    min|                17|                1|\n",
            "|    max|                90|               16|\n",
            "+-------+------------------+-----------------+\n",
            "\n"
          ]
        }
      ],
      "source": [
        "# describe df\n",
        "df_adult.select(df_adult['age'],df_adult['education_num']).describe().show()"
      ]
    },
    {
      "cell_type": "markdown",
      "metadata": {
        "application/vnd.databricks.v1+cell": {
          "inputWidgets": {},
          "nuid": "3e7bfbde-68e3-47a3-9f3e-278bce83808b",
          "showTitle": false,
          "title": ""
        },
        "id": "OmRwfTLLOhHI"
      },
      "source": [
        "### ML Pipeline - Logistic Regression vs Random Forest\n",
        "\n",
        "Below we will create two [Spark ML Pipelines](https://spark.apache.org/docs/latest/ml-pipeline.html) - one that fits a logistic regression and one that fits a random forest. We will then compare the performance of each.\n",
        "\n",
        "**Note**: A lot of the code below is adapted from [this example](https://docs.databricks.com/spark/latest/mllib/binary-classification-mllib-pipelines.html)."
      ]
    },
    {
      "cell_type": "code",
      "execution_count": 35,
      "metadata": {
        "application/vnd.databricks.v1+cell": {
          "inputWidgets": {},
          "nuid": "73a32ba3-ff2c-4ca0-91ca-8e6187f24363",
          "showTitle": false,
          "title": ""
        },
        "id": "rHRFY8hEOhHI"
      },
      "outputs": [],
      "source": [
        "from pyspark.ml import Pipeline\n",
        "from pyspark.ml.feature import OneHotEncoder, StringIndexer, VectorAssembler\n",
        "\n",
        "categoricalColumns = [\"workclass\", \"education\", \"marital_status\", \"occupation\", \"relationship\", \"race\", \"sex\", \"native_country\"]\n",
        "stages = [] # stages in our Pipeline\n",
        "\n",
        "for categoricalCol in categoricalColumns:\n",
        "    # Category Indexing with StringIndexer\n",
        "    stringIndexer = StringIndexer(inputCol=categoricalCol, outputCol=categoricalCol + \"Index\")\n",
        "    # Use OneHotEncoder to convert categorical variables into binary SparseVectors\n",
        "    # encoder = OneHotEncoderEstimator(inputCol=categoricalCol + \"Index\", outputCol=categoricalCol + \"classVec\")\n",
        "    encoder = OneHotEncoder(inputCols=[stringIndexer.getOutputCol()], outputCols=[categoricalCol + \"classVec\"])\n",
        "    # Add stages.  These are not run here, but will run all at once later on.\n",
        "    stages += [stringIndexer, encoder]"
      ]
    },
    {
      "cell_type": "code",
      "execution_count": 36,
      "metadata": {
        "application/vnd.databricks.v1+cell": {
          "inputWidgets": {},
          "nuid": "f2657356-694c-4a30-80bd-02ede201a55c",
          "showTitle": false,
          "title": ""
        },
        "id": "p7LvBtvjOhHJ"
      },
      "outputs": [],
      "source": [
        "# Convert label into label indices using the StringIndexer\n",
        "label_stringIdx = StringIndexer(inputCol=\"income\", outputCol=\"label\")\n",
        "stages += [label_stringIdx]"
      ]
    },
    {
      "cell_type": "code",
      "execution_count": 37,
      "metadata": {
        "application/vnd.databricks.v1+cell": {
          "inputWidgets": {},
          "nuid": "5a2fa539-5109-4b69-bc89-e7a7439a1469",
          "showTitle": false,
          "title": ""
        },
        "id": "wGHHjqYcOhHJ"
      },
      "outputs": [],
      "source": [
        "# Transform all features into a vector using VectorAssembler\n",
        "numericCols = [\"age\", \"fnlwgt\", \"education_num\", \"capital_gain\", \"capital_loss\", \"hours_per_week\"]\n",
        "assemblerInputs = [c + \"classVec\" for c in categoricalColumns] + numericCols\n",
        "assembler = VectorAssembler(inputCols=assemblerInputs, outputCol=\"features\")\n",
        "stages += [assembler]"
      ]
    },
    {
      "cell_type": "code",
      "execution_count": 38,
      "metadata": {
        "application/vnd.databricks.v1+cell": {
          "inputWidgets": {},
          "nuid": "c96a56cc-57f4-4c4b-856e-f2e5701e95fe",
          "showTitle": false,
          "title": ""
        },
        "colab": {
          "base_uri": "https://localhost:8080/"
        },
        "id": "rhnO6VC-OhHJ",
        "outputId": "44dd9254-dbbd-43fe-86df-acefa70a81df"
      },
      "outputs": [
        {
          "output_type": "stream",
          "name": "stdout",
          "text": [
            "+-----+--------------------+---+----------------+------+------------+-------------+--------------------+-----------------+-------------+------------------+------+------------+------------+--------------+--------------+------+\n",
            "|label|            features|age|       workclass|fnlwgt|   education|education_num|      marital_status|       occupation| relationship|              race|   sex|capital_gain|capital_loss|hours_per_week|native_country|income|\n",
            "+-----+--------------------+---+----------------+------+------------+-------------+--------------------+-----------------+-------------+------------------+------+------------+------------+--------------+--------------+------+\n",
            "|  0.0|(96,[3,8,22,30,41...| 39|       State-gov| 77516|   Bachelors|           13|       Never-married|     Adm-clerical|Not-in-family|             White|  Male|        2174|           0|            40| United-States| <=50K|\n",
            "|  0.0|(96,[1,8,21,29,40...| 50|Self-emp-not-inc| 83311|   Bachelors|           13|  Married-civ-spouse|  Exec-managerial|      Husband|             White|  Male|           0|           0|            13| United-States| <=50K|\n",
            "|  0.0|(96,[0,6,23,35,41...| 38|         Private|215646|     HS-grad|            9|            Divorced|Handlers-cleaners|Not-in-family|             White|  Male|           0|           0|            40| United-States| <=50K|\n",
            "|  0.0|(96,[0,11,21,35,4...| 53|         Private|234721|        11th|            7|  Married-civ-spouse|Handlers-cleaners|      Husband|             Black|  Male|           0|           0|            40| United-States| <=50K|\n",
            "|  0.0|(96,[0,8,21,27,44...| 28|         Private|338409|   Bachelors|           13|  Married-civ-spouse|   Prof-specialty|         Wife|             Black|Female|           0|           0|            40|          Cuba| <=50K|\n",
            "|  0.0|(96,[0,9,21,29,44...| 37|         Private|284582|     Masters|           14|  Married-civ-spouse|  Exec-managerial|         Wife|             White|Female|           0|           0|            40| United-States| <=50K|\n",
            "|  0.0|(96,[0,16,26,32,4...| 49|         Private|160187|         9th|            5|Married-spouse-ab...|    Other-service|Not-in-family|             Black|Female|           0|           0|            16|       Jamaica| <=50K|\n",
            "|  1.0|(96,[1,6,21,29,40...| 52|Self-emp-not-inc|209642|     HS-grad|            9|  Married-civ-spouse|  Exec-managerial|      Husband|             White|  Male|           0|           0|            45| United-States|  >50K|\n",
            "|  1.0|(96,[0,9,22,27,41...| 31|         Private| 45781|     Masters|           14|       Never-married|   Prof-specialty|Not-in-family|             White|Female|       14084|           0|            50| United-States|  >50K|\n",
            "|  1.0|(96,[0,8,21,29,40...| 42|         Private|159449|   Bachelors|           13|  Married-civ-spouse|  Exec-managerial|      Husband|             White|  Male|        5178|           0|            40| United-States|  >50K|\n",
            "|  1.0|(96,[0,7,21,29,40...| 37|         Private|280464|Some-college|           10|  Married-civ-spouse|  Exec-managerial|      Husband|             Black|  Male|           0|           0|            80| United-States|  >50K|\n",
            "|  1.0|(96,[3,8,21,27,40...| 30|       State-gov|141297|   Bachelors|           13|  Married-civ-spouse|   Prof-specialty|      Husband|Asian-Pac-Islander|  Male|           0|           0|            40|         India|  >50K|\n",
            "|  0.0|(96,[0,8,22,30,42...| 23|         Private|122272|   Bachelors|           13|       Never-married|     Adm-clerical|    Own-child|             White|Female|           0|           0|            30| United-States| <=50K|\n",
            "|  0.0|(96,[0,12,22,31,4...| 32|         Private|205019|  Assoc-acdm|           12|       Never-married|            Sales|Not-in-family|             Black|  Male|           0|           0|            50| United-States| <=50K|\n",
            "|  0.0|(96,[0,14,21,34,4...| 34|         Private|245487|     7th-8th|            4|  Married-civ-spouse| Transport-moving|      Husband|Amer-Indian-Eskimo|  Male|           0|           0|            45|        Mexico| <=50K|\n",
            "|  0.0|(96,[1,6,22,36,42...| 25|Self-emp-not-inc|176756|     HS-grad|            9|       Never-married|  Farming-fishing|    Own-child|             White|  Male|           0|           0|            35| United-States| <=50K|\n",
            "|  0.0|(96,[0,6,22,33,43...| 32|         Private|186824|     HS-grad|            9|       Never-married|Machine-op-inspct|    Unmarried|             White|  Male|           0|           0|            40| United-States| <=50K|\n",
            "|  0.0|(96,[0,11,21,31,4...| 38|         Private| 28887|        11th|            7|  Married-civ-spouse|            Sales|      Husband|             White|  Male|           0|           0|            50| United-States| <=50K|\n",
            "|  1.0|(96,[1,9,23,29,43...| 43|Self-emp-not-inc|292175|     Masters|           14|            Divorced|  Exec-managerial|    Unmarried|             White|Female|           0|           0|            45| United-States|  >50K|\n",
            "|  1.0|(96,[0,18,21,27,4...| 40|         Private|193524|   Doctorate|           16|  Married-civ-spouse|   Prof-specialty|      Husband|             White|  Male|           0|           0|            60| United-States|  >50K|\n",
            "+-----+--------------------+---+----------------+------+------------+-------------+--------------------+-----------------+-------------+------------------+------+------------+------------+--------------+--------------+------+\n",
            "only showing top 20 rows\n",
            "\n"
          ]
        }
      ],
      "source": [
        "# Create a Pipeline.\n",
        "pipeline = Pipeline(stages=stages)\n",
        "# Run the feature transformations.\n",
        "#  - fit() computes feature statistics as needed.\n",
        "#  - transform() actually transforms the features.\n",
        "pipelineModel = pipeline.fit(df_adult)\n",
        "dataset = pipelineModel.transform(df_adult)\n",
        "# Keep relevant columns\n",
        "selectedcols = [\"label\", \"features\"] + cols\n",
        "dataset = dataset.select(selectedcols)\n",
        "dataset.show()"
      ]
    },
    {
      "cell_type": "code",
      "execution_count": 39,
      "metadata": {
        "application/vnd.databricks.v1+cell": {
          "inputWidgets": {},
          "nuid": "0a5e74a5-dff1-45a3-9155-b9944d95e9aa",
          "showTitle": false,
          "title": ""
        },
        "colab": {
          "base_uri": "https://localhost:8080/"
        },
        "id": "dzh0mEF9OhHJ",
        "outputId": "130b3c79-91b3-4a38-a889-20dd9c9b6b41"
      },
      "outputs": [
        {
          "output_type": "stream",
          "name": "stdout",
          "text": [
            "21164\n",
            "8998\n"
          ]
        }
      ],
      "source": [
        "### Randomly split data into training and test sets. set seed for reproducibility\n",
        "(trainingData, testData) = dataset.randomSplit([0.7, 0.3], seed=100)\n",
        "print(trainingData.count())\n",
        "print(testData.count())"
      ]
    },
    {
      "cell_type": "code",
      "execution_count": 40,
      "metadata": {
        "application/vnd.databricks.v1+cell": {
          "inputWidgets": {},
          "nuid": "c8de9b08-6ff6-4b6a-b67f-a78f2db52ccf",
          "showTitle": false,
          "title": ""
        },
        "colab": {
          "base_uri": "https://localhost:8080/"
        },
        "id": "KkZAZVTgOhHJ",
        "outputId": "30640502-9d40-4a3d-8dde-1079c6a2aa1c"
      },
      "outputs": [
        {
          "output_type": "stream",
          "name": "stdout",
          "text": [
            "Positive rate in the training data is 0.2512285012285012\n"
          ]
        }
      ],
      "source": [
        "from pyspark.sql.functions import avg\n",
        "\n",
        "# get the rate of the positive outcome from the training data to use as a threshold in the model\n",
        "training_data_positive_rate = trainingData.select(avg(trainingData['label'])).collect()[0][0]\n",
        "\n",
        "print(\"Positive rate in the training data is {}\".format(training_data_positive_rate))"
      ]
    },
    {
      "cell_type": "markdown",
      "metadata": {
        "application/vnd.databricks.v1+cell": {
          "inputWidgets": {},
          "nuid": "5fb85c94-76bc-42aa-82b4-d00e6369e6bc",
          "showTitle": false,
          "title": ""
        },
        "id": "kqGhhK0dOhHJ"
      },
      "source": [
        "#### Logistic Regression - Train"
      ]
    },
    {
      "cell_type": "code",
      "execution_count": 41,
      "metadata": {
        "application/vnd.databricks.v1+cell": {
          "inputWidgets": {},
          "nuid": "06e5691c-1522-4b7e-a914-57b1bfa7a3a5",
          "showTitle": false,
          "title": ""
        },
        "colab": {
          "base_uri": "https://localhost:8080/"
        },
        "id": "1Su79jw6OhHJ",
        "outputId": "ee12d8f2-7f62-4787-e377-c4703246977b"
      },
      "outputs": [
        {
          "output_type": "stream",
          "name": "stdout",
          "text": [
            "Best threshold based on model performance on training data is 0.3515650614074174\n"
          ]
        }
      ],
      "source": [
        "from pyspark.ml.classification import LogisticRegression\n",
        "\n",
        "# Create initial LogisticRegression model\n",
        "lr = LogisticRegression(labelCol=\"label\", featuresCol=\"features\", maxIter=10)\n",
        "\n",
        "# set threshold for the probability above which to predict a 1\n",
        "lr.setThreshold(training_data_positive_rate)\n",
        "# lr.setThreshold(0.5) # could use this if knew you had balanced data\n",
        "\n",
        "# Train model with Training Data\n",
        "lrModel = lr.fit(trainingData)\n",
        "\n",
        "# get training summary used for eval metrics and other params\n",
        "lrTrainingSummary = lrModel.summary\n",
        "\n",
        "# Find the best model threshold if you would like to use that instead of the empirical positve rate\n",
        "fMeasure = lrTrainingSummary.fMeasureByThreshold\n",
        "maxFMeasure = fMeasure.groupBy().max('F-Measure').select('max(F-Measure)').head()\n",
        "lrBestThreshold = fMeasure.where(fMeasure['F-Measure'] == maxFMeasure['max(F-Measure)']) \\\n",
        "    .select('threshold').head()['threshold']\n",
        "\n",
        "print(\"Best threshold based on model performance on training data is {}\".format(lrBestThreshold))"
      ]
    },
    {
      "cell_type": "markdown",
      "metadata": {
        "application/vnd.databricks.v1+cell": {
          "inputWidgets": {},
          "nuid": "50f512e9-7d60-427d-8f17-530e08639605",
          "showTitle": false,
          "title": ""
        },
        "id": "-OEYLmVwOhHU"
      },
      "source": [
        "#### GBM - Train"
      ]
    },
    {
      "cell_type": "markdown",
      "metadata": {
        "application/vnd.databricks.v1+cell": {
          "inputWidgets": {},
          "nuid": "e4b1128b-d223-4d3d-b202-5ad887e9cda3",
          "showTitle": false,
          "title": ""
        },
        "id": "T6KqvhJVOhHU"
      },
      "source": [
        "#### <span style=\"color:darkblue\">Question 3</span>\n",
        "1. Train a GBTClassifier on the training data, call the trained model 'gbModel'"
      ]
    },
    {
      "cell_type": "code",
      "execution_count": 43,
      "metadata": {
        "application/vnd.databricks.v1+cell": {
          "inputWidgets": {},
          "nuid": "998d8fa4-1162-4f46-bd6a-40d05beadf31",
          "showTitle": false,
          "title": ""
        },
        "id": "1nUt92fYOhHU"
      },
      "outputs": [],
      "source": [
        "### Question 3.1 Answer ###\n",
        "from pyspark.ml.classification import GBTClassifier\n",
        "\n",
        "# Create initial LogisticRegression model\n",
        "gb = GBTClassifier(labelCol=\"label\", featuresCol=\"features\", maxIter=10)\n",
        "\n",
        "# Train model with Training Data\n",
        "gbModel = gb.fit(trainingData)"
      ]
    },
    {
      "cell_type": "markdown",
      "metadata": {
        "application/vnd.databricks.v1+cell": {
          "inputWidgets": {},
          "nuid": "f52bee49-0815-4252-a35f-d6a9b8b52be2",
          "showTitle": false,
          "title": ""
        },
        "id": "D9RVhJFxOhHV"
      },
      "source": [
        "#### Logistic Regression - Predict"
      ]
    },
    {
      "cell_type": "code",
      "execution_count": 44,
      "metadata": {
        "application/vnd.databricks.v1+cell": {
          "inputWidgets": {},
          "nuid": "6cb54547-1466-46ac-81bc-a9ae5d32dc5c",
          "showTitle": false,
          "title": ""
        },
        "colab": {
          "base_uri": "https://localhost:8080/"
        },
        "id": "j2Fx9TDqOhHV",
        "outputId": "5c16e0b0-2bce-4615-d0cb-2102339ea917"
      },
      "outputs": [
        {
          "output_type": "stream",
          "name": "stdout",
          "text": [
            "+-----+----------+--------------------+\n",
            "|label|prediction|         probability|\n",
            "+-----+----------+--------------------+\n",
            "|  0.0|       1.0|[0.68177981621866...|\n",
            "|  0.0|       1.0|[0.60025895777845...|\n",
            "|  0.0|       1.0|[0.60011279479637...|\n",
            "|  0.0|       1.0|[0.48071766669177...|\n",
            "|  0.0|       0.0|[0.89987230336118...|\n",
            "|  0.0|       1.0|[0.49965155795539...|\n",
            "|  0.0|       1.0|[0.69212053758225...|\n",
            "|  0.0|       1.0|[0.51905947154165...|\n",
            "|  0.0|       1.0|[0.42337951785897...|\n",
            "|  0.0|       1.0|[0.30263016389129...|\n",
            "|  0.0|       1.0|[0.50310280995159...|\n",
            "|  0.0|       0.0|[0.84341452792179...|\n",
            "|  0.0|       0.0|[0.84264550359952...|\n",
            "|  0.0|       0.0|[0.84327400751429...|\n",
            "|  0.0|       0.0|[0.83409652787033...|\n",
            "|  0.0|       0.0|[0.83040358535658...|\n",
            "|  0.0|       0.0|[0.82999718998703...|\n",
            "|  0.0|       0.0|[0.81742023679485...|\n",
            "|  0.0|       0.0|[0.76177869193480...|\n",
            "|  0.0|       0.0|[0.79376581277204...|\n",
            "+-----+----------+--------------------+\n",
            "only showing top 20 rows\n",
            "\n"
          ]
        }
      ],
      "source": [
        "# make predictions on test data\n",
        "lrPredictions = lrModel.transform(testData)\n",
        "\n",
        "# display predictions\n",
        "lrPredictions.select(\"label\", \"prediction\", \"probability\").show()"
      ]
    },
    {
      "cell_type": "markdown",
      "metadata": {
        "application/vnd.databricks.v1+cell": {
          "inputWidgets": {},
          "nuid": "c2b53bb9-d298-4af9-bdc8-fd94a5f0b388",
          "showTitle": false,
          "title": ""
        },
        "id": "9zATqRO5OhHV"
      },
      "source": [
        "### GBM - Predict"
      ]
    },
    {
      "cell_type": "markdown",
      "metadata": {
        "application/vnd.databricks.v1+cell": {
          "inputWidgets": {},
          "nuid": "5f2f8c8c-070a-466c-a315-d26562880c66",
          "showTitle": false,
          "title": ""
        },
        "id": "dGhbgep-OhHV"
      },
      "source": [
        "#### <span style=\"color:darkblue\">Question 4</span>\n",
        "1. Get predictions on the test data for your GBTClassifier. Call the predictions df 'gbPredictions'."
      ]
    },
    {
      "cell_type": "code",
      "execution_count": 46,
      "metadata": {
        "application/vnd.databricks.v1+cell": {
          "inputWidgets": {},
          "nuid": "88af5d4c-6bc4-45c0-a4d5-39656e5aea3a",
          "showTitle": false,
          "title": ""
        },
        "id": "ajQhqjFjOhHV",
        "outputId": "c077d170-131e-49af-c73a-a1b4dd3e4289",
        "colab": {
          "base_uri": "https://localhost:8080/"
        }
      },
      "outputs": [
        {
          "output_type": "stream",
          "name": "stdout",
          "text": [
            "+-----+----------+--------------------+\n",
            "|label|prediction|         probability|\n",
            "+-----+----------+--------------------+\n",
            "|  0.0|       0.0|[0.79046690082419...|\n",
            "|  0.0|       0.0|[0.61315094687541...|\n",
            "|  0.0|       0.0|[0.61315094687541...|\n",
            "|  0.0|       0.0|[0.55482212025108...|\n",
            "|  0.0|       0.0|[0.67128737429378...|\n",
            "|  0.0|       0.0|[0.58863021068954...|\n",
            "|  0.0|       0.0|[0.85805057262490...|\n",
            "|  0.0|       0.0|[0.75119634536332...|\n",
            "|  0.0|       0.0|[0.58476963987626...|\n",
            "|  0.0|       1.0|[0.41891183390141...|\n",
            "|  0.0|       0.0|[0.76382932300476...|\n",
            "|  0.0|       0.0|[0.82975639709120...|\n",
            "|  0.0|       0.0|[0.82975639709120...|\n",
            "|  0.0|       0.0|[0.82975639709120...|\n",
            "|  0.0|       0.0|[0.82975639709120...|\n",
            "|  0.0|       0.0|[0.84028804520524...|\n",
            "|  0.0|       0.0|[0.81101183841063...|\n",
            "|  0.0|       0.0|[0.81101183841063...|\n",
            "|  0.0|       0.0|[0.80555967684892...|\n",
            "|  0.0|       0.0|[0.81101183841063...|\n",
            "+-----+----------+--------------------+\n",
            "only showing top 20 rows\n",
            "\n"
          ]
        }
      ],
      "source": [
        "### Question 4.1 Answer ###\n",
        "\n",
        "# make predictions on test data\n",
        "gbPredictions = gbModel.transform(testData)\n",
        "\n",
        "gbPredictions.select(\"label\", \"prediction\", \"probability\").show()"
      ]
    },
    {
      "cell_type": "markdown",
      "metadata": {
        "application/vnd.databricks.v1+cell": {
          "inputWidgets": {},
          "nuid": "16eabc78-ad9f-4a58-a66d-b8bdc6669417",
          "showTitle": false,
          "title": ""
        },
        "id": "qolSJv3dOhHV"
      },
      "source": [
        "#### Logistic Regression - Evaluate"
      ]
    },
    {
      "cell_type": "markdown",
      "metadata": {
        "application/vnd.databricks.v1+cell": {
          "inputWidgets": {},
          "nuid": "f3194131-7989-4854-b39a-622c6ef6f2cd",
          "showTitle": false,
          "title": ""
        },
        "id": "4EtPeEG3OhHV"
      },
      "source": [
        "#### <span style=\"color:darkblue\">Question 5</span>\n",
        "1. Complete the print_performance_metrics() function below to also include measures of F1, Precision, Recall, False Positive Rate and True Positive Rate."
      ]
    },
    {
      "cell_type": "code",
      "execution_count": 51,
      "metadata": {
        "application/vnd.databricks.v1+cell": {
          "inputWidgets": {},
          "nuid": "e20e5588-1c65-428e-b125-9f2cb6ed8a0d",
          "showTitle": false,
          "title": ""
        },
        "id": "_GAQ40vSOhHV",
        "outputId": "bf8bbfa6-1f9f-4118-cfcc-e4a22033f649",
        "colab": {
          "base_uri": "https://localhost:8080/"
        }
      },
      "outputs": [
        {
          "output_type": "stream",
          "name": "stdout",
          "text": [
            "auc = 0.9026244361306366\n",
            "aupr = 0.7579908629810975\n"
          ]
        },
        {
          "output_type": "stream",
          "name": "stderr",
          "text": [
            "/usr/local/lib/python3.12/dist-packages/pyspark/sql/context.py:158: FutureWarning: Deprecated in 3.0.0. Use SparkSession.builder.getOrCreate() instead.\n",
            "  warnings.warn(\n"
          ]
        },
        {
          "output_type": "stream",
          "name": "stdout",
          "text": [
            "Area under PR = 0.548349153381663\n",
            "Area under ROC = 0.819538167042451\n",
            "Accuracy = 0.8098466325850189\n",
            "DenseMatrix([[5450., 1357.],\n",
            "             [ 354., 1837.]])\n",
            "F1 = 0.8643247958131791, 0.6822655524605387\n",
            "Precision = 0.9390075809786355, 0.5751408891671885\n",
            "Recall = 0.8006463934185397, 0.8384299406663623\n",
            "FPR = 0.1615700593336376, 0.19935360658146026\n",
            "TPR = 0.8006463934185397, 0.8384299406663623\n"
          ]
        }
      ],
      "source": [
        "from pyspark.ml.evaluation import BinaryClassificationEvaluator\n",
        "from pyspark.mllib.evaluation import BinaryClassificationMetrics, MulticlassMetrics\n",
        "\n",
        "def print_performance_metrics(predictions):\n",
        "  # Evaluate model\n",
        "  evaluator = BinaryClassificationEvaluator(rawPredictionCol=\"rawPrediction\")\n",
        "  auc = evaluator.evaluate(predictions, {evaluator.metricName: \"areaUnderROC\"})\n",
        "  aupr = evaluator.evaluate(predictions, {evaluator.metricName: \"areaUnderPR\"})\n",
        "  print(\"auc = {}\".format(auc))\n",
        "  print(\"aupr = {}\".format(aupr))\n",
        "\n",
        "  # get rdd of predictions and labels for mllib eval metrics\n",
        "  predictionAndLabels = predictions.select(\"prediction\",\"label\").rdd\n",
        "\n",
        "  # Instantiate metrics objects\n",
        "  binary_metrics = BinaryClassificationMetrics(predictionAndLabels)\n",
        "  multi_metrics = MulticlassMetrics(predictionAndLabels)\n",
        "\n",
        "  # Area under precision-recall curve\n",
        "  print(\"Area under PR = {}\".format(binary_metrics.areaUnderPR))\n",
        "  # Area under ROC curve\n",
        "  print(\"Area under ROC = {}\".format(binary_metrics.areaUnderROC))\n",
        "  # Accuracy\n",
        "  print(\"Accuracy = {}\".format(multi_metrics.accuracy))\n",
        "  # Confusion Matrix\n",
        "  print(multi_metrics.confusionMatrix())\n",
        "\n",
        "  ### Question 5.1 Answer ###\n",
        "\n",
        "  # F1\n",
        "  print(\"F1 = {}, {}\".format(multi_metrics.fMeasure(0.0), multi_metrics.fMeasure(1.0)))\n",
        "  # Precision\n",
        "  print(\"Precision = {}, {}\".format(multi_metrics.precision(0.0), multi_metrics.precision(1.0)))\n",
        "  # Recall\n",
        "  print(\"Recall = {}, {}\".format(multi_metrics.recall(0.0), multi_metrics.recall(1.0)))\n",
        "  # FPR\n",
        "  print(\"FPR = {}, {}\".format(multi_metrics.falsePositiveRate(0.0), multi_metrics.falsePositiveRate(1.0)))\n",
        "  # TPR\n",
        "  print(\"TPR = {}, {}\".format(multi_metrics.truePositiveRate(0.0), multi_metrics.truePositiveRate(1.0)))\n",
        "\n",
        "\n",
        "print_performance_metrics(lrPredictions)"
      ]
    },
    {
      "cell_type": "markdown",
      "metadata": {
        "application/vnd.databricks.v1+cell": {
          "inputWidgets": {},
          "nuid": "21aa0bfe-9510-470d-9692-7c252c9bc58f",
          "showTitle": false,
          "title": ""
        },
        "id": "kaDztHZXOhHV"
      },
      "source": [
        "#### GBM - Evaluate"
      ]
    },
    {
      "cell_type": "code",
      "execution_count": 52,
      "metadata": {
        "application/vnd.databricks.v1+cell": {
          "inputWidgets": {},
          "nuid": "111e82b8-8470-42d0-9485-5fdb59912e56",
          "showTitle": false,
          "title": ""
        },
        "id": "wwegtB7aOhHV",
        "outputId": "c2359c93-c9f9-4c3f-a0b8-47a2d2de40a8",
        "colab": {
          "base_uri": "https://localhost:8080/"
        }
      },
      "outputs": [
        {
          "output_type": "stream",
          "name": "stdout",
          "text": [
            "auc = 0.9049251726734167\n",
            "aupr = 0.7745588445572517\n",
            "Area under PR = 0.6506635745693341\n",
            "Area under ROC = 0.7518527890685194\n",
            "Accuracy = 0.8509668815292287\n",
            "DenseMatrix([[6433.,  374.],\n",
            "             [ 967., 1224.]])\n",
            "F1 = 0.905609910607447, 0.6460807600950119\n",
            "Precision = 0.8693243243243243, 0.7659574468085106\n",
            "Recall = 0.9450565594241223, 0.5586490187129165\n",
            "FPR = 0.4413509812870835, 0.05494344057587777\n",
            "TPR = 0.9450565594241223, 0.5586490187129165\n"
          ]
        }
      ],
      "source": [
        "print_performance_metrics(gbPredictions)"
      ]
    },
    {
      "cell_type": "markdown",
      "metadata": {
        "application/vnd.databricks.v1+cell": {
          "inputWidgets": {},
          "nuid": "c9d7ac8b-69d9-47d4-9412-9342faad7c05",
          "showTitle": false,
          "title": ""
        },
        "id": "qU2qwawbOhHV"
      },
      "source": [
        "## Cross Validation"
      ]
    },
    {
      "cell_type": "markdown",
      "metadata": {
        "application/vnd.databricks.v1+cell": {
          "inputWidgets": {},
          "nuid": "766d216e-da4c-4d99-8693-44c74ef75370",
          "showTitle": false,
          "title": ""
        },
        "id": "XK-l_CWYOhHV"
      },
      "source": [
        "For each model you can run the below comand to see its params and a brief explanation of each."
      ]
    },
    {
      "cell_type": "code",
      "execution_count": 53,
      "metadata": {
        "application/vnd.databricks.v1+cell": {
          "inputWidgets": {},
          "nuid": "dcfef6fc-f469-4556-bebc-9ed17b605b8f",
          "showTitle": false,
          "title": ""
        },
        "colab": {
          "base_uri": "https://localhost:8080/"
        },
        "id": "H0KoAfE-OhHV",
        "outputId": "53b9796b-06c2-43e2-e43e-20c6fa0d0804"
      },
      "outputs": [
        {
          "output_type": "stream",
          "name": "stdout",
          "text": [
            "aggregationDepth: suggested depth for treeAggregate (>= 2). (default: 2)\n",
            "elasticNetParam: the ElasticNet mixing parameter, in range [0, 1]. For alpha = 0, the penalty is an L2 penalty. For alpha = 1, it is an L1 penalty. (default: 0.0)\n",
            "family: The name of family which is a description of the label distribution to be used in the model. Supported options: auto, binomial, multinomial (default: auto)\n",
            "featuresCol: features column name. (default: features, current: features)\n",
            "fitIntercept: whether to fit an intercept term. (default: True)\n",
            "labelCol: label column name. (default: label, current: label)\n",
            "lowerBoundsOnCoefficients: The lower bounds on coefficients if fitting under bound constrained optimization. The bound matrix must be compatible with the shape (1, number of features) for binomial regression, or (number of classes, number of features) for multinomial regression. (undefined)\n",
            "lowerBoundsOnIntercepts: The lower bounds on intercepts if fitting under bound constrained optimization. The bounds vector size must beequal with 1 for binomial regression, or the number oflasses for multinomial regression. (undefined)\n",
            "maxBlockSizeInMB: maximum memory in MB for stacking input data into blocks. Data is stacked within partitions. If more than remaining data size in a partition then it is adjusted to the data size. Default 0.0 represents choosing optimal value, depends on specific algorithm. Must be >= 0. (default: 0.0)\n",
            "maxIter: max number of iterations (>= 0). (default: 100, current: 10)\n",
            "predictionCol: prediction column name. (default: prediction)\n",
            "probabilityCol: Column name for predicted class conditional probabilities. Note: Not all models output well-calibrated probability estimates! These probabilities should be treated as confidences, not precise probabilities. (default: probability)\n",
            "rawPredictionCol: raw prediction (a.k.a. confidence) column name. (default: rawPrediction)\n",
            "regParam: regularization parameter (>= 0). (default: 0.0)\n",
            "standardization: whether to standardize the training features before fitting the model. (default: True)\n",
            "threshold: Threshold in binary classification prediction, in range [0, 1]. If threshold and thresholds are both set, they must match.e.g. if threshold is p, then thresholds must be equal to [1-p, p]. (default: 0.5, current: 0.2512285012285012)\n",
            "thresholds: Thresholds in multi-class classification to adjust the probability of predicting each class. Array must have length equal to the number of classes, with values > 0, excepting that at most one value may be 0. The class with largest value p/t is predicted, where p is the original probability of that class and t is the class's threshold. (undefined)\n",
            "tol: the convergence tolerance for iterative algorithms (>= 0). (default: 1e-06)\n",
            "upperBoundsOnCoefficients: The upper bounds on coefficients if fitting under bound constrained optimization. The bound matrix must be compatible with the shape (1, number of features) for binomial regression, or (number of classes, number of features) for multinomial regression. (undefined)\n",
            "upperBoundsOnIntercepts: The upper bounds on intercepts if fitting under bound constrained optimization. The bound vector size must be equal with 1 for binomial regression, or the number of classes for multinomial regression. (undefined)\n",
            "weightCol: weight column name. If this is not set or empty, we treat all instance weights as 1.0. (undefined)\n"
          ]
        }
      ],
      "source": [
        "print(lr.explainParams())"
      ]
    },
    {
      "cell_type": "code",
      "execution_count": 54,
      "metadata": {
        "application/vnd.databricks.v1+cell": {
          "inputWidgets": {},
          "nuid": "077280d3-39ad-4b29-b97e-ca45993c7527",
          "showTitle": false,
          "title": ""
        },
        "id": "aB58DaNOOhHV",
        "outputId": "104c63ef-81a3-4096-f8c4-f9f828c6473b",
        "colab": {
          "base_uri": "https://localhost:8080/"
        }
      },
      "outputs": [
        {
          "output_type": "stream",
          "name": "stdout",
          "text": [
            "cacheNodeIds: If false, the algorithm will pass trees to executors to match instances with nodes. If true, the algorithm will cache node IDs for each instance. Caching can speed up training of deeper trees. Users can set how often should the cache be checkpointed or disable it by setting checkpointInterval. (default: False)\n",
            "checkpointInterval: set checkpoint interval (>= 1) or disable checkpoint (-1). E.g. 10 means that the cache will get checkpointed every 10 iterations. Note: this setting will be ignored if the checkpoint directory is not set in the SparkContext. (default: 10)\n",
            "featureSubsetStrategy: The number of features to consider for splits at each tree node. Supported options: 'auto' (choose automatically for task: If numTrees == 1, set to 'all'. If numTrees > 1 (forest), set to 'sqrt' for classification and to 'onethird' for regression), 'all' (use all features), 'onethird' (use 1/3 of the features), 'sqrt' (use sqrt(number of features)), 'log2' (use log2(number of features)), 'n' (when n is in the range (0, 1.0], use n * number of features. When n is in the range (1, number of features), use n features). default = 'auto' (default: all)\n",
            "featuresCol: features column name. (default: features, current: features)\n",
            "impurity: Criterion used for information gain calculation (case-insensitive). Supported options: variance (default: variance)\n",
            "labelCol: label column name. (default: label, current: label)\n",
            "leafCol: Leaf indices column name. Predicted leaf index of each instance in each tree by preorder. (default: )\n",
            "lossType: Loss function which GBT tries to minimize (case-insensitive). Supported options: logistic (default: logistic)\n",
            "maxBins: Max number of bins for discretizing continuous features.  Must be >=2 and >= number of categories for any categorical feature. (default: 32)\n",
            "maxDepth: Maximum depth of the tree. (>= 0) E.g., depth 0 means 1 leaf node; depth 1 means 1 internal node + 2 leaf nodes. Must be in range [0, 30]. (default: 5)\n",
            "maxIter: max number of iterations (>= 0). (default: 20, current: 10)\n",
            "maxMemoryInMB: Maximum memory in MB allocated to histogram aggregation. If too small, then 1 node will be split per iteration, and its aggregates may exceed this size. (default: 256)\n",
            "minInfoGain: Minimum information gain for a split to be considered at a tree node. (default: 0.0)\n",
            "minInstancesPerNode: Minimum number of instances each child must have after split. If a split causes the left or right child to have fewer than minInstancesPerNode, the split will be discarded as invalid. Should be >= 1. (default: 1)\n",
            "minWeightFractionPerNode: Minimum fraction of the weighted sample count that each child must have after split. If a split causes the fraction of the total weight in the left or right child to be less than minWeightFractionPerNode, the split will be discarded as invalid. Should be in interval [0.0, 0.5). (default: 0.0)\n",
            "predictionCol: prediction column name. (default: prediction)\n",
            "probabilityCol: Column name for predicted class conditional probabilities. Note: Not all models output well-calibrated probability estimates! These probabilities should be treated as confidences, not precise probabilities. (default: probability)\n",
            "rawPredictionCol: raw prediction (a.k.a. confidence) column name. (default: rawPrediction)\n",
            "seed: random seed. (default: 707539584557233963)\n",
            "stepSize: Step size (a.k.a. learning rate) in interval (0, 1] for shrinking the contribution of each estimator. (default: 0.1)\n",
            "subsamplingRate: Fraction of the training data used for learning each decision tree, in range (0, 1]. (default: 1.0)\n",
            "thresholds: Thresholds in multi-class classification to adjust the probability of predicting each class. Array must have length equal to the number of classes, with values > 0, excepting that at most one value may be 0. The class with largest value p/t is predicted, where p is the original probability of that class and t is the class's threshold. (undefined)\n",
            "validationIndicatorCol: name of the column that indicates whether each row is for training or for validation. False indicates training; true indicates validation. (undefined)\n",
            "validationTol: Threshold for stopping early when fit with validation is used. If the error rate on the validation input changes by less than the validationTol, then learning will stop early (before `maxIter`). This parameter is ignored when fit without validation is used. (default: 0.01)\n",
            "weightCol: weight column name. If this is not set or empty, we treat all instance weights as 1.0. (undefined)\n"
          ]
        }
      ],
      "source": [
        "print(gb.explainParams())"
      ]
    },
    {
      "cell_type": "markdown",
      "metadata": {
        "application/vnd.databricks.v1+cell": {
          "inputWidgets": {},
          "nuid": "5daa3f89-6335-47e0-96e6-b1e0c43a3aea",
          "showTitle": false,
          "title": ""
        },
        "id": "hyHJ08QJOhHV"
      },
      "source": [
        "#### Logisitic Regression - Param Grid"
      ]
    },
    {
      "cell_type": "code",
      "execution_count": 55,
      "metadata": {
        "application/vnd.databricks.v1+cell": {
          "inputWidgets": {},
          "nuid": "0d0ad441-c23a-484b-81e4-14b7fbf0b27e",
          "showTitle": false,
          "title": ""
        },
        "id": "22JrgPAbOhHW"
      },
      "outputs": [],
      "source": [
        "from pyspark.ml.tuning import ParamGridBuilder, CrossValidator\n",
        "\n",
        "# Create ParamGrid for Cross Validation\n",
        "lrParamGrid = (ParamGridBuilder()\n",
        "             .addGrid(lr.regParam, [0.01, 0.5, 2.0])\n",
        "             .addGrid(lr.elasticNetParam, [0.0, 0.5, 1.0])\n",
        "             .addGrid(lr.maxIter, [2, 5])\n",
        "             .build())"
      ]
    },
    {
      "cell_type": "markdown",
      "metadata": {
        "application/vnd.databricks.v1+cell": {
          "inputWidgets": {},
          "nuid": "b72cc844-4efe-498a-aff0-18403c629de6",
          "showTitle": false,
          "title": ""
        },
        "id": "meovwY1kOhHW"
      },
      "source": [
        "#### GBM - Param Grid"
      ]
    },
    {
      "cell_type": "markdown",
      "metadata": {
        "application/vnd.databricks.v1+cell": {
          "inputWidgets": {},
          "nuid": "47696aef-d15e-4885-94aa-e263c7a56121",
          "showTitle": false,
          "title": ""
        },
        "id": "p6JR-IgtOhHW"
      },
      "source": [
        "#### <span style=\"color:darkblue\">Question 6</span>\n",
        "1. Build out a param grid for the gb model, call it 'gbParamGrid'."
      ]
    },
    {
      "cell_type": "code",
      "execution_count": 56,
      "metadata": {
        "application/vnd.databricks.v1+cell": {
          "inputWidgets": {},
          "nuid": "34b95f49-81f1-4edc-949d-e453c6214d22",
          "showTitle": false,
          "title": ""
        },
        "id": "aVObDX9_OhHW"
      },
      "outputs": [],
      "source": [
        "### Question 6.1 Answer ###\n",
        "import numpy as np\n",
        "\n",
        "# Create ParamGrid for Cross Validation\n",
        "gbParamGrid = (ParamGridBuilder()\n",
        "              .addGrid(gb.maxDepth, np.arange(2, 5))\n",
        "              .addGrid(gb.maxIter, [10])\n",
        "              .build())"
      ]
    },
    {
      "cell_type": "markdown",
      "metadata": {
        "application/vnd.databricks.v1+cell": {
          "inputWidgets": {},
          "nuid": "cb7eecc2-5510-4563-8fc1-ec0f8efa7ecd",
          "showTitle": false,
          "title": ""
        },
        "id": "lmCsUUr_OhHW"
      },
      "source": [
        "#### Logistic Regression - Perform Cross Validation"
      ]
    },
    {
      "cell_type": "code",
      "execution_count": 57,
      "metadata": {
        "application/vnd.databricks.v1+cell": {
          "inputWidgets": {},
          "nuid": "9d2856c2-cec9-43e5-8b42-61f93429b97f",
          "showTitle": false,
          "title": ""
        },
        "id": "9uoCe7qqOhHW"
      },
      "outputs": [],
      "source": [
        "from pyspark.ml.evaluation import BinaryClassificationEvaluator\n",
        "from pyspark.mllib.evaluation import BinaryClassificationMetrics, MulticlassMetrics\n",
        "\n",
        "# set up an evaluator\n",
        "evaluator = BinaryClassificationEvaluator(rawPredictionCol=\"rawPrediction\")\n",
        "\n",
        "# Create CrossValidator\n",
        "lrCv = CrossValidator(estimator=lr, estimatorParamMaps=lrParamGrid, evaluator=evaluator, numFolds=2)\n",
        "\n",
        "# Run cross validations\n",
        "lrCvModel = lrCv.fit(trainingData)\n",
        "# this will likely take a fair amount of time because of the amount of models that we're creating and testing"
      ]
    },
    {
      "cell_type": "code",
      "execution_count": 58,
      "metadata": {
        "application/vnd.databricks.v1+cell": {
          "inputWidgets": {},
          "nuid": "919f51ca-6b9d-43ac-a32b-16bf811f3a0d",
          "showTitle": false,
          "title": ""
        },
        "colab": {
          "base_uri": "https://localhost:8080/"
        },
        "id": "tyrY3FBdOhHW",
        "outputId": "dd06d9e4-d6e2-4c94-893f-6cf8db663422"
      },
      "outputs": [
        {
          "output_type": "stream",
          "name": "stdout",
          "text": [
            "0.01\n",
            "0.5\n",
            "5\n"
          ]
        }
      ],
      "source": [
        "# below approach to getting at the best params from the best cv model taken from:\n",
        "# https://stackoverflow.com/a/46353730/1919374\n",
        "\n",
        "# look at best params from the CV\n",
        "print(lrCvModel.bestModel._java_obj.getRegParam())\n",
        "print(lrCvModel.bestModel._java_obj.getElasticNetParam())\n",
        "print(lrCvModel.bestModel._java_obj.getMaxIter())"
      ]
    },
    {
      "cell_type": "markdown",
      "metadata": {
        "application/vnd.databricks.v1+cell": {
          "inputWidgets": {},
          "nuid": "ea6bd5d5-df8c-4eaa-aa24-7dcc2e7627cc",
          "showTitle": false,
          "title": ""
        },
        "id": "wkRvnEZAOhHW"
      },
      "source": [
        "#### GBM - Perform Cross Validation"
      ]
    },
    {
      "cell_type": "markdown",
      "metadata": {
        "application/vnd.databricks.v1+cell": {
          "inputWidgets": {},
          "nuid": "fb2030b9-f96b-4402-b6cf-ab05effc3944",
          "showTitle": false,
          "title": ""
        },
        "id": "HRIbFcdEOhHW"
      },
      "source": [
        "#### <span style=\"color:darkblue\">Question 7</span>\n",
        "1. Perform cross validation of params on your 'gb' model.\n",
        "1. Print out the best params you found."
      ]
    },
    {
      "cell_type": "code",
      "execution_count": 59,
      "metadata": {
        "application/vnd.databricks.v1+cell": {
          "inputWidgets": {},
          "nuid": "98a9e5e6-449d-4f6e-8fee-3fc3e1e56c2f",
          "showTitle": false,
          "title": ""
        },
        "id": "6DNPyUl8OhHW"
      },
      "outputs": [],
      "source": [
        "### Question 7.1 Answer ###\n",
        "\n",
        "# Create CrossValidator\n",
        "gbCv = CrossValidator(estimator=gb, estimatorParamMaps=gbParamGrid, evaluator=evaluator, numFolds=2)\n",
        "\n",
        "# Run cross validations\n",
        "gbCvModel = gbCv.fit(trainingData)"
      ]
    },
    {
      "cell_type": "code",
      "execution_count": 61,
      "metadata": {
        "application/vnd.databricks.v1+cell": {
          "inputWidgets": {},
          "nuid": "60e1eff8-e84e-4a8b-bab1-3b5ce2e5e9f4",
          "showTitle": false,
          "title": ""
        },
        "id": "DrUyhU5LOhHW",
        "outputId": "40eeb75b-e498-413b-d673-1ccec35efa02",
        "colab": {
          "base_uri": "https://localhost:8080/"
        }
      },
      "outputs": [
        {
          "output_type": "stream",
          "name": "stdout",
          "text": [
            "4\n",
            "10\n"
          ]
        }
      ],
      "source": [
        "### Question 7.2 Answer ###\n",
        "\n",
        "# look at best params from the CV\n",
        "print(gbCvModel.bestModel._java_obj.getMaxDepth())\n",
        "print(gbCvModel.bestModel._java_obj.getMaxIter())"
      ]
    },
    {
      "cell_type": "markdown",
      "metadata": {
        "application/vnd.databricks.v1+cell": {
          "inputWidgets": {},
          "nuid": "efd7e902-4c5c-48ca-8dfc-93a8ca1192e0",
          "showTitle": false,
          "title": ""
        },
        "id": "KMuEADRmOhHW"
      },
      "source": [
        "#### Logistic Regression - CV Model Predict"
      ]
    },
    {
      "cell_type": "code",
      "execution_count": 62,
      "metadata": {
        "application/vnd.databricks.v1+cell": {
          "inputWidgets": {},
          "nuid": "402209de-a5da-4195-ac8a-fe20fb1c9b87",
          "showTitle": false,
          "title": ""
        },
        "colab": {
          "base_uri": "https://localhost:8080/"
        },
        "id": "-ZxgV4XCOhHW",
        "outputId": "e22f9ab0-4167-4d51-cf88-cef0c1b97457"
      },
      "outputs": [
        {
          "output_type": "stream",
          "name": "stdout",
          "text": [
            "+-----+--------------------+---+---------+------+---------+-------------+------------------+--------------+------------+------------------+------+------------+------------+--------------+--------------+------+--------------------+--------------------+----------+\n",
            "|label|            features|age|workclass|fnlwgt|education|education_num|    marital_status|    occupation|relationship|              race|   sex|capital_gain|capital_loss|hours_per_week|native_country|income|       rawPrediction|         probability|prediction|\n",
            "+-----+--------------------+---+---------+------+---------+-------------+------------------+--------------+------------+------------------+------+------------+------------+--------------+--------------+------+--------------------+--------------------+----------+\n",
            "|  0.0|(96,[0,6,21,27,40...| 26|  Private| 58426|  HS-grad|            9|Married-civ-spouse|Prof-specialty|     Husband|             White|  Male|           0|           0|            50| United-States| <=50K|[0.64522522559301...|[0.65593367296088...|       1.0|\n",
            "|  0.0|(96,[0,6,21,27,40...| 51|  Private| 94432|  HS-grad|            9|Married-civ-spouse|Prof-specialty|     Husband|             White|  Male|           0|           0|            40| United-States| <=50K|[0.46523903718089...|[0.61425628310832...|       1.0|\n",
            "|  0.0|(96,[0,6,21,27,40...| 51|  Private| 95469|  HS-grad|            9|Married-civ-spouse|Prof-specialty|     Husband|             White|  Male|           0|           0|            40| United-States| <=50K|[0.46518239740633...|[0.61424286248167...|       1.0|\n",
            "|  0.0|(96,[0,6,21,27,40...| 63|  Private|133144|  HS-grad|            9|Married-civ-spouse|Prof-specialty|     Husband|             White|  Male|           0|           0|            45| United-States| <=50K|[0.13842499250452...|[0.53455109489869...|       1.0|\n",
            "|  0.0|(96,[0,6,21,27,40...| 45|  Private| 26781|  HS-grad|            9|Married-civ-spouse|Prof-specialty|     Husband|Amer-Indian-Eskimo|  Male|           0|           0|             8| United-States| <=50K|[1.52278392216433...|[0.82094806152475...|       0.0|\n",
            "|  0.0|(96,[0,6,21,27,44...| 59|  Private|172071|  HS-grad|            9|Married-civ-spouse|Prof-specialty|        Wife|             Black|Female|           0|           0|            38|       Jamaica| <=50K|[0.46341541142981...|[0.61382409325809...|       1.0|\n",
            "|  0.0|(96,[0,6,21,28,40...| 20|  Private| 34568|  HS-grad|            9|Married-civ-spouse|  Craft-repair|     Husband|             White|  Male|        3781|           0|            35| United-States| <=50K|[1.08978506148181...|[0.74834124512185...|       1.0|\n",
            "|  0.0|(96,[0,6,21,28,40...| 34|  Private| 36069|  HS-grad|            9|Married-civ-spouse|  Craft-repair|     Husband|             White|  Male|        3908|           0|            46| United-States| <=50K|[0.57253694589333...|[0.63934835585622...|       1.0|\n",
            "|  0.0|(96,[0,6,21,28,40...| 56|  Private|286487|  HS-grad|            9|Married-civ-spouse|  Craft-repair|     Husband|             White|  Male|        2885|           0|            45| United-States| <=50K|[0.31016820344632...|[0.57692631715425...|       1.0|\n",
            "|  0.0|(96,[0,6,21,28,40...| 41|  Private|125831|  HS-grad|            9|Married-civ-spouse|  Craft-repair|     Husband|             White|  Male|           0|        2051|            60| United-States| <=50K|[-0.4371802403201...|[0.39241306626197...|       1.0|\n",
            "|  0.0|(96,[0,6,21,28,40...| 42|  Private|117319|  HS-grad|            9|Married-civ-spouse|  Craft-repair|     Husband|             White|  Male|           0|        1672|            40| United-States| <=50K|[0.20479635401275...|[0.55102088845136...|       1.0|\n",
            "|  0.0|(96,[0,6,21,28,40...| 19|  Private|187352|  HS-grad|            9|Married-civ-spouse|  Craft-repair|     Husband|             White|  Male|           0|           0|            40| United-States| <=50K|[1.33990737924504...|[0.79247470957846...|       0.0|\n",
            "|  0.0|(96,[0,6,21,28,40...| 21|  Private|109952|  HS-grad|            9|Married-civ-spouse|  Craft-repair|     Husband|             White|  Male|           0|           0|            40| United-States| <=50K|[1.31036268194675...|[0.78757383936238...|       0.0|\n",
            "|  0.0|(96,[0,6,21,28,40...| 22|  Private| 58222|  HS-grad|            9|Married-civ-spouse|  Craft-repair|     Husband|             White|  Male|           0|           0|            40| United-States| <=50K|[1.29630201725379...|[0.78521196076938...|       0.0|\n",
            "|  0.0|(96,[0,6,21,28,40...| 22|  Private|173736|  HS-grad|            9|Married-civ-spouse|  Craft-repair|     Husband|             White|  Male|           0|           0|            40| United-States| <=50K|[1.28999277239466...|[0.78414596582778...|       0.0|\n",
            "|  0.0|(96,[0,6,21,28,40...| 24|  Private|235894|  HS-grad|            9|Married-civ-spouse|  Craft-repair|     Husband|             White|  Male|           0|           0|            38| United-States| <=50K|[1.30165215352764...|[0.78611290646512...|       0.0|\n",
            "|  0.0|(96,[0,6,21,28,40...| 26|  Private| 49092|  HS-grad|            9|Married-civ-spouse|  Craft-repair|     Husband|             White|  Male|           0|           0|            40| United-States| <=50K|[1.22925629096904...|[0.77368838128820...|       0.0|\n",
            "|  0.0|(96,[0,6,21,28,40...| 27|  Private|152951|  HS-grad|            9|Married-civ-spouse|  Craft-repair|     Husband|             White|  Male|           0|           0|            40| United-States| <=50K|[1.20669752995540...|[0.76971409348057...|       0.0|\n",
            "|  0.0|(96,[0,6,21,28,40...| 27|  Private|203776|  HS-grad|            9|Married-civ-spouse|  Craft-repair|     Husband|             White|  Male|           0|           0|            50| United-States| <=50K|[0.95978862783308...|[0.72307948289926...|       1.0|\n",
            "|  0.0|(96,[0,6,21,28,40...| 27|  Private|410351|  HS-grad|            9|Married-civ-spouse|  Craft-repair|     Husband|             White|  Male|           0|           0|            40| United-States| <=50K|[1.19263863123542...|[0.76721264913654...|       0.0|\n",
            "+-----+--------------------+---+---------+------+---------+-------------+------------------+--------------+------------+------------------+------+------------+------------+--------------+--------------+------+--------------------+--------------------+----------+\n",
            "only showing top 20 rows\n",
            "\n"
          ]
        }
      ],
      "source": [
        "# Use test set to measure the accuracy of our model on new data\n",
        "lrCvPredictions = lrCvModel.transform(testData)\n",
        "\n",
        "lrCvPredictions.show()"
      ]
    },
    {
      "cell_type": "markdown",
      "metadata": {
        "application/vnd.databricks.v1+cell": {
          "inputWidgets": {},
          "nuid": "cff1a654-95f5-4e08-9705-76e133141de7",
          "showTitle": false,
          "title": ""
        },
        "id": "URk4kbLqOhHW"
      },
      "source": [
        "#### GBM - CV Model Predict"
      ]
    },
    {
      "cell_type": "code",
      "execution_count": 63,
      "metadata": {
        "application/vnd.databricks.v1+cell": {
          "inputWidgets": {},
          "nuid": "b7e0cddb-99ed-4fe9-9c46-ed9dc12f5044",
          "showTitle": false,
          "title": ""
        },
        "id": "oUZ3wcakOhHW",
        "outputId": "04f84e29-3069-4872-bc69-bb7f57b21b0a",
        "colab": {
          "base_uri": "https://localhost:8080/"
        }
      },
      "outputs": [
        {
          "output_type": "stream",
          "name": "stdout",
          "text": [
            "+-----+--------------------+---+---------+------+---------+-------------+------------------+--------------+------------+------------------+------+------------+------------+--------------+--------------+------+--------------------+--------------------+----------+\n",
            "|label|            features|age|workclass|fnlwgt|education|education_num|    marital_status|    occupation|relationship|              race|   sex|capital_gain|capital_loss|hours_per_week|native_country|income|       rawPrediction|         probability|prediction|\n",
            "+-----+--------------------+---+---------+------+---------+-------------+------------------+--------------+------------+------------------+------+------------+------------+--------------+--------------+------+--------------------+--------------------+----------+\n",
            "|  0.0|(96,[0,6,21,27,40...| 26|  Private| 58426|  HS-grad|            9|Married-civ-spouse|Prof-specialty|     Husband|             White|  Male|           0|           0|            50| United-States| <=50K|[0.63832975583593...|[0.78188061491927...|       0.0|\n",
            "|  0.0|(96,[0,6,21,27,40...| 51|  Private| 94432|  HS-grad|            9|Married-civ-spouse|Prof-specialty|     Husband|             White|  Male|           0|           0|            40| United-States| <=50K|[0.30170177844818...|[0.64643459981518...|       0.0|\n",
            "|  0.0|(96,[0,6,21,27,40...| 51|  Private| 95469|  HS-grad|            9|Married-civ-spouse|Prof-specialty|     Husband|             White|  Male|           0|           0|            40| United-States| <=50K|[0.30170177844818...|[0.64643459981518...|       0.0|\n",
            "|  0.0|(96,[0,6,21,27,40...| 63|  Private|133144|  HS-grad|            9|Married-civ-spouse|Prof-specialty|     Husband|             White|  Male|           0|           0|            45| United-States| <=50K|[0.20449160243387...|[0.60084404540839...|       0.0|\n",
            "|  0.0|(96,[0,6,21,27,40...| 45|  Private| 26781|  HS-grad|            9|Married-civ-spouse|Prof-specialty|     Husband|Amer-Indian-Eskimo|  Male|           0|           0|             8| United-States| <=50K|[0.47480481701211...|[0.72103666549586...|       0.0|\n",
            "|  0.0|(96,[0,6,21,27,44...| 59|  Private|172071|  HS-grad|            9|Married-civ-spouse|Prof-specialty|        Wife|             Black|Female|           0|           0|            38|       Jamaica| <=50K|[0.30170177844818...|[0.64643459981518...|       0.0|\n",
            "|  0.0|(96,[0,6,21,28,40...| 20|  Private| 34568|  HS-grad|            9|Married-civ-spouse|  Craft-repair|     Husband|             White|  Male|        3781|           0|            35| United-States| <=50K|[0.70847565945367...|[0.80486003444910...|       0.0|\n",
            "|  0.0|(96,[0,6,21,28,40...| 34|  Private| 36069|  HS-grad|            9|Married-civ-spouse|  Craft-repair|     Husband|             White|  Male|        3908|           0|            46| United-States| <=50K|[0.46220226198510...|[0.71593870714649...|       0.0|\n",
            "|  0.0|(96,[0,6,21,28,40...| 56|  Private|286487|  HS-grad|            9|Married-civ-spouse|  Craft-repair|     Husband|             White|  Male|        2885|           0|            45| United-States| <=50K|[0.25096312506055...|[0.62291190023572...|       0.0|\n",
            "|  0.0|(96,[0,6,21,28,40...| 41|  Private|125831|  HS-grad|            9|Married-civ-spouse|  Craft-repair|     Husband|             White|  Male|           0|        2051|            60| United-States| <=50K|[0.06911242219249...|[0.53450129645705...|       0.0|\n",
            "|  0.0|(96,[0,6,21,28,40...| 42|  Private|117319|  HS-grad|            9|Married-civ-spouse|  Craft-repair|     Husband|             White|  Male|           0|        1672|            40| United-States| <=50K|[0.34817330107487...|[0.66737726971622...|       0.0|\n",
            "|  0.0|(96,[0,6,21,28,40...| 19|  Private|187352|  HS-grad|            9|Married-civ-spouse|  Craft-repair|     Husband|             White|  Male|           0|           0|            40| United-States| <=50K|[0.70847565945367...|[0.80486003444910...|       0.0|\n",
            "|  0.0|(96,[0,6,21,28,40...| 21|  Private|109952|  HS-grad|            9|Married-civ-spouse|  Craft-repair|     Husband|             White|  Male|           0|           0|            40| United-States| <=50K|[0.70847565945367...|[0.80486003444910...|       0.0|\n",
            "|  0.0|(96,[0,6,21,28,40...| 22|  Private| 58222|  HS-grad|            9|Married-civ-spouse|  Craft-repair|     Husband|             White|  Male|           0|           0|            40| United-States| <=50K|[0.70847565945367...|[0.80486003444910...|       0.0|\n",
            "|  0.0|(96,[0,6,21,28,40...| 22|  Private|173736|  HS-grad|            9|Married-civ-spouse|  Craft-repair|     Husband|             White|  Male|           0|           0|            40| United-States| <=50K|[0.70847565945367...|[0.80486003444910...|       0.0|\n",
            "|  0.0|(96,[0,6,21,28,40...| 24|  Private|235894|  HS-grad|            9|Married-civ-spouse|  Craft-repair|     Husband|             White|  Male|           0|           0|            38| United-States| <=50K|[0.70847565945367...|[0.80486003444910...|       0.0|\n",
            "|  0.0|(96,[0,6,21,28,40...| 26|  Private| 49092|  HS-grad|            9|Married-civ-spouse|  Craft-repair|     Husband|             White|  Male|           0|           0|            40| United-States| <=50K|[0.65231268921709...|[0.78661239745713...|       0.0|\n",
            "|  0.0|(96,[0,6,21,28,40...| 27|  Private|152951|  HS-grad|            9|Married-civ-spouse|  Craft-repair|     Husband|             White|  Male|           0|           0|            40| United-States| <=50K|[0.65231268921709...|[0.78661239745713...|       0.0|\n",
            "|  0.0|(96,[0,6,21,28,40...| 27|  Private|203776|  HS-grad|            9|Married-civ-spouse|  Craft-repair|     Husband|             White|  Male|           0|           0|            50| United-States| <=50K|[0.63832975583593...|[0.78188061491927...|       0.0|\n",
            "|  0.0|(96,[0,6,21,28,40...| 27|  Private|410351|  HS-grad|            9|Married-civ-spouse|  Craft-repair|     Husband|             White|  Male|           0|           0|            40| United-States| <=50K|[0.65231268921709...|[0.78661239745713...|       0.0|\n",
            "+-----+--------------------+---+---------+------+---------+-------------+------------------+--------------+------------+------------------+------+------------+------------+--------------+--------------+------+--------------------+--------------------+----------+\n",
            "only showing top 20 rows\n",
            "\n"
          ]
        }
      ],
      "source": [
        "gbCvPredictions = gbCvModel.transform(testData)\n",
        "\n",
        "gbCvPredictions.show()"
      ]
    },
    {
      "cell_type": "markdown",
      "metadata": {
        "application/vnd.databricks.v1+cell": {
          "inputWidgets": {},
          "nuid": "f9db16de-2dcd-45ee-9e00-50009530a361",
          "showTitle": false,
          "title": ""
        },
        "id": "q6DUHdzsOhHW"
      },
      "source": [
        "#### Logistic Regression - CV Model Evaluate"
      ]
    },
    {
      "cell_type": "code",
      "execution_count": 64,
      "metadata": {
        "application/vnd.databricks.v1+cell": {
          "inputWidgets": {},
          "nuid": "30e58e24-4d40-4c50-bbb0-73e059994495",
          "showTitle": false,
          "title": ""
        },
        "id": "vu7mBs2cOhHW",
        "outputId": "dfaac48d-a55d-4029-a78f-85417b185b77",
        "colab": {
          "base_uri": "https://localhost:8080/"
        }
      },
      "outputs": [
        {
          "output_type": "stream",
          "name": "stdout",
          "text": [
            "auc = 0.8977437648588058\n",
            "aupr = 0.7396899902857731\n"
          ]
        },
        {
          "output_type": "stream",
          "name": "stderr",
          "text": [
            "/usr/local/lib/python3.12/dist-packages/pyspark/sql/context.py:158: FutureWarning: Deprecated in 3.0.0. Use SparkSession.builder.getOrCreate() instead.\n",
            "  warnings.warn(\n"
          ]
        },
        {
          "output_type": "stream",
          "name": "stdout",
          "text": [
            "Area under PR = 0.5275500565166272\n",
            "Area under ROC = 0.8184977112654925\n",
            "Accuracy = 0.7932873971993777\n",
            "DenseMatrix([[5237., 1570.],\n",
            "             [ 290., 1901.]])\n",
            "F1 = 0.8491973406842873, 0.6714941716707877\n",
            "Precision = 0.9475303057716664, 0.5476807836358398\n",
            "Recall = 0.7693550756574115, 0.8676403468735737\n",
            "FPR = 0.13235965312642628, 0.23064492434258851\n",
            "TPR = 0.7693550756574115, 0.8676403468735737\n"
          ]
        }
      ],
      "source": [
        "print_performance_metrics(lrCvPredictions)"
      ]
    },
    {
      "cell_type": "markdown",
      "metadata": {
        "application/vnd.databricks.v1+cell": {
          "inputWidgets": {},
          "nuid": "f959c275-36a7-42a3-b1b7-551e28e651c9",
          "showTitle": false,
          "title": ""
        },
        "id": "FqSJkAoPOhHX"
      },
      "source": [
        "#### GBM - CV Model Evaluate"
      ]
    },
    {
      "cell_type": "code",
      "execution_count": 65,
      "metadata": {
        "application/vnd.databricks.v1+cell": {
          "inputWidgets": {},
          "nuid": "62cfc105-53b6-4690-b732-e6446b965087",
          "showTitle": false,
          "title": ""
        },
        "id": "OGQqyXKZOhHX",
        "outputId": "8e5446c1-62a7-4f2b-9bac-d613f3800db3",
        "colab": {
          "base_uri": "https://localhost:8080/"
        }
      },
      "outputs": [
        {
          "output_type": "stream",
          "name": "stdout",
          "text": [
            "auc = 0.9026872959528258\n",
            "aupr = 0.7674885349550965\n",
            "Area under PR = 0.6404743123675206\n",
            "Area under ROC = 0.7451114335345048\n",
            "Accuracy = 0.8468548566348078\n",
            "DenseMatrix([[6422.,  385.],\n",
            "             [ 993., 1198.]])\n",
            "F1 = 0.9031078610603291, 0.634870164281929\n",
            "Precision = 0.8660822656776804, 0.7567909033480733\n",
            "Recall = 0.9434405758777729, 0.5467822911912369\n",
            "FPR = 0.4532177088087631, 0.05655942412222712\n",
            "TPR = 0.9434405758777729, 0.5467822911912369\n"
          ]
        }
      ],
      "source": [
        "print_performance_metrics(gbCvPredictions)"
      ]
    },
    {
      "cell_type": "markdown",
      "metadata": {
        "application/vnd.databricks.v1+cell": {
          "inputWidgets": {},
          "nuid": "39417456-a688-48c7-9aa4-58801fbf147e",
          "showTitle": false,
          "title": ""
        },
        "id": "2NPLD6wNOhHX"
      },
      "source": [
        "#### Logistic Regression - Model Explore"
      ]
    },
    {
      "cell_type": "code",
      "execution_count": 66,
      "metadata": {
        "application/vnd.databricks.v1+cell": {
          "inputWidgets": {},
          "nuid": "f567014e-5897-4b4f-b8a5-0aa1b536fe9c",
          "showTitle": false,
          "title": ""
        },
        "colab": {
          "base_uri": "https://localhost:8080/"
        },
        "id": "tS28r3jOOhHX",
        "outputId": "3baa594b-a2f4-4982-d9c6-f0c7f7f60b85"
      },
      "outputs": [
        {
          "output_type": "stream",
          "name": "stdout",
          "text": [
            "Model Intercept:  -6.391384248407855\n"
          ]
        }
      ],
      "source": [
        "print('Model Intercept: ', lrCvModel.bestModel.intercept)"
      ]
    },
    {
      "cell_type": "code",
      "execution_count": 67,
      "metadata": {
        "application/vnd.databricks.v1+cell": {
          "inputWidgets": {},
          "nuid": "c5f8f9be-7672-4cee-83e1-3f72e632a07f",
          "showTitle": false,
          "title": ""
        },
        "colab": {
          "base_uri": "https://localhost:8080/"
        },
        "id": "xZr143XJOhHX",
        "outputId": "2d1b72d1-3c02-4582-d005-7f34f5b401a5"
      },
      "outputs": [
        {
          "output_type": "stream",
          "name": "stdout",
          "text": [
            "+--------------------+\n",
            "|      Feature Weight|\n",
            "+--------------------+\n",
            "| 0.15223697579930323|\n",
            "| -0.3228707168897386|\n",
            "|                 0.0|\n",
            "| -0.1624475667166901|\n",
            "|  0.1283413483727274|\n",
            "| 0.22460395028914307|\n",
            "|-0.06718453658168749|\n",
            "|                 0.0|\n",
            "|  0.3526793423601534|\n",
            "|  0.4355196878504106|\n",
            "|                 0.0|\n",
            "|-0.05445209191448029|\n",
            "|                 0.0|\n",
            "|-0.05504706679412582|\n",
            "| -0.2299436142971662|\n",
            "|  0.7758622309786092|\n",
            "|-0.02216204920866067|\n",
            "|                 0.0|\n",
            "|  0.5691645341368106|\n",
            "|                 0.0|\n",
            "+--------------------+\n",
            "only showing top 20 rows\n",
            "\n"
          ]
        }
      ],
      "source": [
        "lrWeights = lrCvModel.bestModel.coefficients\n",
        "lrWeights = [(float(w),) for w in lrWeights]  # convert numpy type to float, and to tuple\n",
        "lrWeightsDF = spark.createDataFrame(lrWeights, [\"Feature Weight\"])\n",
        "lrWeightsDF.show()"
      ]
    },
    {
      "cell_type": "markdown",
      "metadata": {
        "application/vnd.databricks.v1+cell": {
          "inputWidgets": {},
          "nuid": "857e8f3b-45fb-4af6-b8ce-dd30d3190095",
          "showTitle": false,
          "title": ""
        },
        "id": "Hz7nxFIAOhHX"
      },
      "source": [
        "### Feature Importance"
      ]
    },
    {
      "cell_type": "markdown",
      "metadata": {
        "application/vnd.databricks.v1+cell": {
          "inputWidgets": {},
          "nuid": "03af6259-aa64-4309-a2a8-6207c8675e26",
          "showTitle": false,
          "title": ""
        },
        "id": "USPRL7NTOhHX"
      },
      "source": [
        "#### <span style=\"color:darkblue\">Question 8</span>\n",
        "1. Print out a table of feature_name and feature_coefficient from the Logistic Regression model.\n",
        "<br><br>\n",
        "Hint: Adapt the code from here: https://stackoverflow.com/questions/42935914/how-to-map-features-from-the-output-of-a-vectorassembler-back-to-the-column-name"
      ]
    },
    {
      "cell_type": "code",
      "execution_count": 77,
      "metadata": {
        "application/vnd.databricks.v1+cell": {
          "inputWidgets": {},
          "nuid": "eb525282-a308-446e-a14a-37fae0a9019d",
          "showTitle": false,
          "title": ""
        },
        "id": "KXaTApT-OhHX",
        "outputId": "a0fc2d6d-21f3-467e-e307-26df137e90e8",
        "colab": {
          "base_uri": "https://localhost:8080/"
        }
      },
      "outputs": [
        {
          "output_type": "stream",
          "name": "stdout",
          "text": [
            "                                 feature_name  feature_importance\n",
            "44                  relationshipclassVec_Wife            1.064825\n",
            "21  marital_statusclassVec_Married-civ-spouse            0.935381\n",
            "15              educationclassVec_Prof-school            0.775862\n",
            "29         occupationclassVec_Exec-managerial            0.618084\n",
            "18                educationclassVec_Doctorate            0.569165\n",
            "..                                        ...                 ...\n",
            "35       occupationclassVec_Handlers-cleaners           -0.365548\n",
            "42             relationshipclassVec_Own-child           -0.463085\n",
            "22       marital_statusclassVec_Never-married           -0.529839\n",
            "32           occupationclassVec_Other-service           -0.614551\n",
            "36         occupationclassVec_Farming-fishing           -0.673610\n",
            "\n",
            "[96 rows x 2 columns]\n"
          ]
        }
      ],
      "source": [
        "### Question 8.1 Answer ###\n",
        "\n",
        "# from: https://stackoverflow.com/questions/42935914/how-to-map-features-from-the-output-of-a-vectorassembler-back-to-the-column-name\n",
        "\n",
        "from itertools import chain\n",
        "\n",
        "transformed = lrCvModel.bestModel.transform(trainingData)\n",
        "attrs = sorted((attr[\"idx\"], attr[\"name\"]) for attr in (chain(*transformed.schema[\"features\"].metadata[\"ml_attr\"][\"attrs\"].values())))\n",
        "\n",
        "lrCvFeatureImportance = pd.DataFrame([(name, lrCvModel.bestModel.coefficients[idx]) for idx, name in attrs],columns=['feature_name','feature_importance'])\n",
        "\n",
        "print(lrCvFeatureImportance.sort_values(by=['feature_importance'],ascending =False))"
      ]
    },
    {
      "cell_type": "code",
      "execution_count": 70,
      "metadata": {
        "application/vnd.databricks.v1+cell": {
          "inputWidgets": {},
          "nuid": "432159f9-6383-42eb-8ced-489f722d68e0",
          "showTitle": false,
          "title": ""
        },
        "id": "Y_tZAKZmOhHX",
        "outputId": "83c9e39c-007b-417a-fa80-b88eb4a73f0b",
        "colab": {
          "base_uri": "https://localhost:8080/"
        }
      },
      "outputs": [
        {
          "output_type": "stream",
          "name": "stdout",
          "text": [
            "                                 feature_name  feature_importance\n",
            "90                                        age            0.242605\n",
            "21  marital_statusclassVec_Married-civ-spouse            0.199562\n",
            "92                              education_num            0.132907\n",
            "95                             hours_per_week            0.085749\n",
            "94                               capital_loss            0.082379\n",
            "..                                        ...                 ...\n",
            "84            native_countryclassVec_Thailand            0.000000\n",
            "83                native_countryclassVec_Laos            0.000000\n",
            "91                                     fnlwgt            0.000000\n",
            "88            native_countryclassVec_Honduras            0.000000\n",
            "89            native_countryclassVec_Scotland            0.000000\n",
            "\n",
            "[96 rows x 2 columns]\n"
          ]
        }
      ],
      "source": [
        "gbCvFeatureImportance = pd.DataFrame([(name, gbCvModel.bestModel.featureImportances[idx]) for idx, name in attrs],columns=['feature_name','feature_importance'])\n",
        "\n",
        "print(gbCvFeatureImportance.sort_values(by=['feature_importance'],ascending =False))"
      ]
    },
    {
      "cell_type": "markdown",
      "metadata": {
        "application/vnd.databricks.v1+cell": {
          "inputWidgets": {},
          "nuid": "bd47490f-2880-4b55-9b80-e74faa0a7fef",
          "showTitle": false,
          "title": ""
        },
        "id": "QQAPcm6UOhHX"
      },
      "source": [
        "#### <span style=\"color:darkblue\">Question 9</span>\n",
        "1. Build and train a RandomForestClassifier and print out a table of feature importances from it."
      ]
    },
    {
      "cell_type": "code",
      "execution_count": 78,
      "metadata": {
        "application/vnd.databricks.v1+cell": {
          "inputWidgets": {},
          "nuid": "9d63f4af-4566-4657-8f7e-a6b848f03356",
          "showTitle": false,
          "title": ""
        },
        "id": "mjGMNuV5OhHX",
        "outputId": "5144a8fd-c19d-4417-fc55-eef989fad27e",
        "colab": {
          "base_uri": "https://localhost:8080/"
        }
      },
      "outputs": [
        {
          "output_type": "stream",
          "name": "stdout",
          "text": [
            "                                 feature_name  feature_importance\n",
            "93                               capital_gain            0.152864\n",
            "21  marital_statusclassVec_Married-civ-spouse            0.140369\n",
            "92                              education_num            0.137454\n",
            "40               relationshipclassVec_Husband            0.122810\n",
            "22       marital_statusclassVec_Never-married            0.074679\n",
            "..                                        ...                 ...\n",
            "83                native_countryclassVec_Laos            0.000000\n",
            "81            native_countryclassVec_Cambodia            0.000000\n",
            "82     native_countryclassVec_Trinadad&Tobago            0.000000\n",
            "88            native_countryclassVec_Honduras            0.000000\n",
            "89            native_countryclassVec_Scotland            0.000000\n",
            "\n",
            "[96 rows x 2 columns]\n"
          ]
        }
      ],
      "source": [
        "### Question 9.1 Answer ###\n",
        "\n",
        "from pyspark.ml.classification import RandomForestClassifier\n",
        "\n",
        "rf = RandomForestClassifier(labelCol=\"label\", featuresCol=\"features\", numTrees=10)\n",
        "\n",
        "rfModel = rf.fit(trainingData)\n",
        "\n",
        "transformed = rfModel.transform(trainingData)\n",
        "attrs = sorted((attr[\"idx\"], attr[\"name\"]) for attr in (chain(*transformed.schema[\"features\"].metadata[\"ml_attr\"][\"attrs\"].values())))\n",
        "rfFeatureImportance = pd.DataFrame([(name, rfModel.featureImportances[idx]) for idx, name in attrs],columns=['feature_name','feature_importance'])\n",
        "\n",
        "print(rfFeatureImportance.sort_values(by=['feature_importance'],ascending=False))"
      ]
    }
  ],
  "metadata": {
    "application/vnd.databricks.v1+notebook": {
      "dashboards": [],
      "language": "python",
      "notebookName": "Spark DF, SQL, ML Exercise",
      "notebookOrigID": 2160390444796193,
      "widgets": {}
    },
    "language_info": {
      "name": "python"
    },
    "colab": {
      "provenance": []
    },
    "kernelspec": {
      "name": "python3",
      "display_name": "Python 3"
    }
  },
  "nbformat": 4,
  "nbformat_minor": 0
}